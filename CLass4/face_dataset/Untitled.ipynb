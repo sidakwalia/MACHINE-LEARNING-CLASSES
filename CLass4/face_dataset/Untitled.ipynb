{
 "cells": [
  {
   "cell_type": "code",
   "execution_count": 1,
   "metadata": {},
   "outputs": [],
   "source": [
    "import numpy as np\n"
   ]
  },
  {
   "cell_type": "code",
   "execution_count": 2,
   "metadata": {},
   "outputs": [
    {
     "name": "stdout",
     "output_type": "stream",
     "text": [
      "[[ 90  99 102 ...  23  59  84]\n",
      " [ 61  73  77 ...  27  56  77]\n",
      " [ 48  58  59 ...  22  56  82]\n",
      " ...\n",
      " [168 177 174 ...  36  21  14]\n",
      " [143 154 152 ...  71 107 129]\n",
      " [ 72  79  78 ...  25  38  36]]\n"
     ]
    }
   ],
   "source": [
    "array_reloaded=np.load('sidak.npy') \n",
    "print(array_reloaded) "
   ]
  },
  {
   "cell_type": "code",
   "execution_count": 3,
   "metadata": {},
   "outputs": [
    {
     "data": {
      "text/plain": [
       "array([[ 90,  99, 102, ...,  23,  59,  84],\n",
       "       [ 61,  73,  77, ...,  27,  56,  77],\n",
       "       [ 48,  58,  59, ...,  22,  56,  82],\n",
       "       ...,\n",
       "       [168, 177, 174, ...,  36,  21,  14],\n",
       "       [143, 154, 152, ...,  71, 107, 129],\n",
       "       [ 72,  79,  78, ...,  25,  38,  36]], dtype=uint8)"
      ]
     },
     "execution_count": 3,
     "metadata": {},
     "output_type": "execute_result"
    }
   ],
   "source": [
    "np.load('sidak.npy')"
   ]
  },
  {
   "cell_type": "code",
   "execution_count": null,
   "metadata": {},
   "outputs": [],
   "source": []
  }
 ],
 "metadata": {
  "kernelspec": {
   "display_name": "Python 3",
   "language": "python",
   "name": "python3"
  },
  "language_info": {
   "codemirror_mode": {
    "name": "ipython",
    "version": 3
   },
   "file_extension": ".py",
   "mimetype": "text/x-python",
   "name": "python",
   "nbconvert_exporter": "python",
   "pygments_lexer": "ipython3",
   "version": "3.6.9"
  }
 },
 "nbformat": 4,
 "nbformat_minor": 2
}
