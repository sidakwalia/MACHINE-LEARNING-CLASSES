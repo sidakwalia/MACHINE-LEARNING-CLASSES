{
 "cells": [
  {
   "cell_type": "code",
   "execution_count": 1,
   "metadata": {},
   "outputs": [],
   "source": [
    "#test\n",
    "#Q1 Find the slope between points (-1,0) & (3,0)\n",
    "m = -1/3\n"
   ]
  },
  {
   "cell_type": "code",
   "execution_count": 3,
   "metadata": {},
   "outputs": [],
   "source": [
    "#Q2\n",
    "#WRITE THE CODE FOR DISTANCE BETWEEN A AND B(FUNCTION)\n",
    "\n",
    "import numpy as np\n",
    "\n",
    "def distance(a, b):\n",
    "    return np.sqrt(np.sum((a-b)**2))\n"
   ]
  },
  {
   "cell_type": "code",
   "execution_count": 3,
   "metadata": {},
   "outputs": [],
   "source": [
    "#Q3\n",
    "#what is supervised learning and give one example of SuperVised Learning\n",
    "\n",
    "Supervised learning is when machine learning is applied to a dataset in which the features and labels are given.\n",
    "Eg. KNN, Linear regression etc.\n"
   ]
  },
  {
   "cell_type": "code",
   "execution_count": 4,
   "metadata": {},
   "outputs": [],
   "source": [
    "#Q4\n",
    "#What is the difference between ML and Deep Learning?\n",
    "\n",
    "ML- Is accurate when a small amount of data is given.\n",
    "Deep learning - Is accurate even with large amounts of data.\n",
    "                                           "
   ]
  },
  {
   "cell_type": "code",
   "execution_count": 5,
   "metadata": {},
   "outputs": [],
   "source": [
    "#Q5 \n",
    "#Write a function for gradient descent in python\n",
    "\n",
    "def gradientdescent(X, Y, theta):\n",
    "    m = X.shape(0)\n",
    "    theta = ([-2.0, 0.0])\n",
    "    \n",
    "    learning_rate = 0.00000001\n",
    "    \n",
    "    theta_list = []\n",
    "    error_list = []\n",
    "    \n",
    "    k = 0\n",
    "    \n",
    "    for ix in range(m):\n",
    "        hx = hypothesis(X[i], theta)\n",
    "        grad = gradient(hx, learning_rate)\n",
    "\n",
    "        \n",
    "        \n",
    "        \n",
    "        \n"
   ]
  },
  {
   "cell_type": "code",
   "execution_count": 11,
   "metadata": {},
   "outputs": [],
   "source": [
    "#Q6\n",
    "#Write a function of KNN IN Python?\n",
    "\n",
    "def distance(a, b):\n",
    "    return np.sqrt(np.sum((a-b)**2)) \n",
    "\n",
    "def KNN(X, y, k=5):\n",
    "    m = X.shape[0]\n",
    "    dis_l = []\n",
    "    \n",
    "    for ix in range(m):\n",
    "        dis = distance(X[ix], X)\n",
    "        dis_l.append([dis, ix])\n",
    "        \n",
    "    dis_l = np.array([dis_l])\n",
    "    dis_l = sorted(dis_l) [:k]\n",
    "    uniq = np.unique(dis_l, return_counts=True)\n",
    "    out = np.argmax(uniq[1])\n",
    "    \n",
    "    return int([uniq[ix], out])   \n"
   ]
  },
  {
   "cell_type": "code",
   "execution_count": 9,
   "metadata": {},
   "outputs": [],
   "source": [
    "#Q7\n",
    "#What is HSV used in open cloak project?\n",
    "\n",
    "HSV(Hue Saturation vibrance) is a colour coding scheme which takes in 3 values. Each color is made with a \n",
    "combination numbers in this scheme. It has a maximum value of 255 but in opencv it is 180. It is divided in \n",
    "different colours with intervals of 30.\n"
   ]
  },
  {
   "cell_type": "code",
   "execution_count": null,
   "metadata": {},
   "outputs": [],
   "source": [
    "#Q8\n",
    "#Write the code for face data using opencv?\n",
    "\n",
    "import cv2 \n",
    "import numpy\n",
    "\n",
    "cap.Read(0)\n",
    "cascade = cascadeClassifier(\"haarcascade_frontalface_alt.xml\")\n",
    "\n",
    "face_data = []\n",
    "face_dataset = [\"./face_dataset/\"]\n",
    "\n",
    "name = input(\"Please enter your name: \")\n",
    "\n",
    "while True:\n",
    "    \n",
    "    ret, frame = cap.Read()\n",
    "    \n",
    "    if ret == False:\n",
    "        continue\n",
    "    if len(ret) == 0:\n",
    "        continue\n",
    "    \n",
    "    gray = cv2.Color(img, cvt.Color_BGR2GRAY)\n",
    "    \n",
    "    gray = face_cascade.detectMultiScale(gray, 1.3, 5)\n",
    "    \n",
    "    frame = cv2.Offset(gray, [y-h+offset, x-w+offset])\n",
    "\n",
    "    cv2.Imshow(face_offset)\n",
    "    cv2.Rectangle(frame, (0, 255, 0))\n",
    "    \n",
    "    np.save(face_dataset, name,frame)\n",
    "    \n",
    "    key_pressed = cv2. & 0xFF\n",
    "    if key_pressed == ord\"q\":\n",
    "        quit()\n",
    "    \n",
    "cap.release()\n",
    "cv2.destroyallWindows()"
   ]
  },
  {
   "cell_type": "code",
   "execution_count": 10,
   "metadata": {},
   "outputs": [],
   "source": [
    "#Q9\n",
    "#What is KMeans and what type of learning it is?\n",
    "\n",
    "KMeans is an unsupervised learning algorithm which can classify data into different types. It is used when either \n",
    "the features or labels of a dataset are not given.\n"
   ]
  },
  {
   "cell_type": "code",
   "execution_count": 15,
   "metadata": {},
   "outputs": [],
   "source": [
    "#Q10\n",
    "#What is the use of np.random.randint?Give example?\n",
    "\n",
    "#np.random.randint is a function that will provide a number between 0 and 0.9\n",
    "#eg.\n",
    "a = np.random.randint(2)"
   ]
  },
  {
   "cell_type": "code",
   "execution_count": 11,
   "metadata": {},
   "outputs": [],
   "source": [
    "#Q11\n",
    "#What is linear regression and when it is used?\n",
    "Linear regression is a fast supervised llearning algorithm used to make predictions when x is given but y is not a\n",
    "not and vica versa."
   ]
  },
  {
   "cell_type": "code",
   "execution_count": 12,
   "metadata": {},
   "outputs": [],
   "source": [
    "#Q12\n",
    "#Write a code to convert image into grayscale?\n",
    "cv2.Color(img, cvt.Color_BGR2GRAY)\n",
    "\n"
   ]
  },
  {
   "cell_type": "code",
   "execution_count": 13,
   "metadata": {},
   "outputs": [],
   "source": [
    "#Q13\n",
    "#If y=x^2+1 .Find(dy/dx)?\n",
    "\n",
    "y = 2x\n"
   ]
  },
  {
   "cell_type": "code",
   "execution_count": 8,
   "metadata": {},
   "outputs": [
    {
     "data": {
      "text/plain": [
       "(array([1, 2, 3, 5]), array([1, 2, 1, 2]))"
      ]
     },
     "execution_count": 8,
     "metadata": {},
     "output_type": "execute_result"
    }
   ],
   "source": [
    "#Q14\n",
    "#What is the use of np.unique and give example with the code?\n",
    "\n",
    "#np.unique is used to find unique values in an array\n",
    "\n",
    "a = ([1, 2, 3, 5, 5, 2])\n",
    "unique = np.unique(a)\n",
    "unique\n",
    "\n",
    "# It has an attribute called \"return counts\" which gives you the number of times an item was repeated\n",
    "\n",
    "unique = np.unique(a, return_counts=True)\n",
    "unique\n"
   ]
  },
  {
   "cell_type": "raw",
   "metadata": {},
   "source": [
    "#Q15\n",
    "#How to split data into testing and training give a example with the code?\n",
    "\n",
    "data = [1, 2, 4, 3, 6, 4, 8, 4, 9, 0, 3, 5, 6]\n",
    "split = 0.70*\n"
   ]
  },
  {
   "cell_type": "code",
   "execution_count": 16,
   "metadata": {},
   "outputs": [],
   "source": [
    "#Q16\n",
    "#Explain the process of face recognition\n",
    "\n",
    "In face recognition, first the image is converted into grayscale. Then it is scanned multiple times for specific \n",
    "facial features such as eyes, nose, face etc. by first dividing it into big rectangles and scanning each one of \n",
    "them for a feature. If no feauture is found, the size of the shapes decreases. This happens until a feature\n",
    "is found or otherwise, the image has no face.\n",
    "\n",
    "Then, the face is compared to other faces in a dataset. This can be done using algorithms like KNN. \n",
    "If a match is found, then we can display the name.\n"
   ]
  },
  {
   "cell_type": "code",
   "execution_count": 17,
   "metadata": {},
   "outputs": [],
   "source": [
    "#17\n",
    "#How to Convert the color space from BGR to HSV?\n",
    "\n",
    "cv2.Color(img, cvt.Color_BGR2HSV)\n"
   ]
  },
  {
   "cell_type": "code",
   "execution_count": null,
   "metadata": {},
   "outputs": [],
   "source": [
    "#18\n",
    "#Explain (face_cascade.detectMultiScale(gray, 1.3, 5))?\n",
    "\n",
    "face_cascade.detectMultiScale(gray, 1.3, 5) is used to start detecting faces by creating squares and making them \n",
    "smaller by 1.3, 5 to until a face is found or not found\n"
   ]
  }
 ],
 "metadata": {
  "kernelspec": {
   "display_name": "Python 3",
   "language": "python",
   "name": "python3"
  },
  "language_info": {
   "codemirror_mode": {
    "name": "ipython",
    "version": 3
   },
   "file_extension": ".py",
   "mimetype": "text/x-python",
   "name": "python",
   "nbconvert_exporter": "python",
   "pygments_lexer": "ipython3",
   "version": "3.8.2"
  }
 },
 "nbformat": 4,
 "nbformat_minor": 2
}
