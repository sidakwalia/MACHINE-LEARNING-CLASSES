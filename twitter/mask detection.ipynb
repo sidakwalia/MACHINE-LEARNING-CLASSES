{
 "cells": [
  {
   "cell_type": "code",
   "execution_count": null,
   "metadata": {},
   "outputs": [],
   "source": [
    "for (x,y,w,h) in faces:\n",
    "    face_frame=frame[y:y+h,x:x+w]\n",
    "    face_frame=cv2.cvtColor(face_frame,cv2.COLOR_BGR2RGB)\n",
    "    face_frame=cv2.resize(face_frame,(224,224))\n",
    "    face_frame=img_to_array(face_frame)\n",
    "    face_frame=np.expand.dims(face_frame,axis=0)\n",
    "    face_frame=preprocess_input(face_frame)\n",
    "    faces_l.append(face_frame)\n",
    "    \n",
    "    if(len(faces_l)>0):\n",
    "        predication=model.predict(faces_l)\n",
    "        \n",
    "    for pred in predication:\n",
    "        (mask,withoutmask)=pred\n",
    "    label=\"Mask\" if mask>withoutmask else \"No Mask\"\n",
    "    color=\n",
    "    \n",
    "    label=\"{}:{:.2f}%format(label,max(mask,withoutmask))*100\"\n",
    "    \n",
    "    cv2.putText(frame,label,(x,y-10),cv2.FONT_HERSHEY_SIMPLEX,0.45,color,2)\n",
    "    \n",
    "    cv2.rectangle(frame,(x,y),(x+w,y+h),color,2)\n",
    "    \n",
    "    cv2.imshow('Video',frame)\n",
    "    \n",
    "    if cv2.wait\n",
    "        break\n",
    "        \n",
    "video_capture.release()\n",
    "cv2.des\n",
    "    \n",
    "    \n",
    "    "
   ]
  }
 ],
 "metadata": {
  "kernelspec": {
   "display_name": "Python 3",
   "language": "python",
   "name": "python3"
  },
  "language_info": {
   "codemirror_mode": {
    "name": "ipython",
    "version": 3
   },
   "file_extension": ".py",
   "mimetype": "text/x-python",
   "name": "python",
   "nbconvert_exporter": "python",
   "pygments_lexer": "ipython3",
   "version": "3.6.9"
  }
 },
 "nbformat": 4,
 "nbformat_minor": 2
}
