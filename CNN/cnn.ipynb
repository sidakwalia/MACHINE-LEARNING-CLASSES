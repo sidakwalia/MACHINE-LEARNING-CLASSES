{
  "nbformat": 4,
  "nbformat_minor": 0,
  "metadata": {
    "colab": {
      "name": "ANN_VS_CNN.ipynb",
      "provenance": []
    },
    "kernelspec": {
      "name": "python3",
      "display_name": "Python 3"
    },
    "accelerator": "GPU"
  },
  "cells": [
    {
      "cell_type": "code",
      "metadata": {
        "id": "vtCWRYq95Au7",
        "colab_type": "code",
        "colab": {
          "base_uri": "https://localhost:8080/",
          "height": 417
        },
        "outputId": "2d6c38c9-2c80-418c-f1de-ad25c1866e0c"
      },
      "source": [
        "import tensorflow as tf         #using neural network\n",
        "mnist=tf.keras.datasets.fashion_mnist\n",
        "\n",
        "(X_train,y_train),(X_test,y_test)=mnist.load_data()\n",
        "X_train=X_train/255.0\n",
        "X_test=X_test/255.0\n",
        "model=tf.keras.models.Sequential([tf.keras.layers.Flatten(),\n",
        "                                  tf.keras.layers.Dense(128,activation=tf.nn.relu),\n",
        "                                  tf.keras.layers.Dense(10,activation=tf.nn.softmax)\n",
        "                                  \n",
        "])\n",
        "\n",
        "model.compile(loss='sparse_categorical_crossentropy',optimizer='adam',metrics=['accuracy'])\n",
        "model.fit(X_train,y_train,epochs=10,batch_size=500)\n",
        "print(\"testing results\")\n",
        "test_loss=model.evaluate(X_test,y_test)\n"
      ],
      "execution_count": 11,
      "outputs": [
        {
          "output_type": "stream",
          "text": [
            "Epoch 1/10\n",
            "120/120 [==============================] - 1s 7ms/step - loss: 0.6903 - accuracy: 0.7687\n",
            "Epoch 2/10\n",
            "120/120 [==============================] - 1s 7ms/step - loss: 0.4601 - accuracy: 0.8419\n",
            "Epoch 3/10\n",
            "120/120 [==============================] - 1s 7ms/step - loss: 0.4165 - accuracy: 0.8552\n",
            "Epoch 4/10\n",
            "120/120 [==============================] - 1s 7ms/step - loss: 0.3880 - accuracy: 0.8652\n",
            "Epoch 5/10\n",
            "120/120 [==============================] - 1s 7ms/step - loss: 0.3695 - accuracy: 0.8703\n",
            "Epoch 6/10\n",
            "120/120 [==============================] - 1s 7ms/step - loss: 0.3538 - accuracy: 0.8758\n",
            "Epoch 7/10\n",
            "120/120 [==============================] - 1s 7ms/step - loss: 0.3410 - accuracy: 0.8790\n",
            "Epoch 8/10\n",
            "120/120 [==============================] - 1s 7ms/step - loss: 0.3299 - accuracy: 0.8829\n",
            "Epoch 9/10\n",
            "120/120 [==============================] - 1s 7ms/step - loss: 0.3179 - accuracy: 0.8862\n",
            "Epoch 10/10\n",
            "120/120 [==============================] - 1s 7ms/step - loss: 0.3127 - accuracy: 0.8884\n",
            "tesitng results\n",
            "313/313 [==============================] - 0s 1ms/step - loss: 0.3641 - accuracy: 0.8717\n"
          ],
          "name": "stdout"
        }
      ]
    },
    {
      "cell_type": "code",
      "metadata": {
        "id": "rledeliP7-B7",
        "colab_type": "code",
        "colab": {
          "base_uri": "https://localhost:8080/",
          "height": 963
        },
        "outputId": "a28dd426-5832-47a5-afff-615495f8df88"
      },
      "source": [
        "import tensorflow as tf     #Using Convulution neural network\n",
        "mnist=tf.keras.datasets.fashion_mnist\n",
        "(X_train,y_train),(X_test,y_test)=mnist.load_data()\n",
        "X_train=X_train.reshape(-1,28,28,1)\n",
        "X_train=X_train/255.0\n",
        "X_test=X_test.reshape(-1,28,28,1)\n",
        "X_test=X_test/255.0\n",
        "model=tf.keras.models.Sequential([\n",
        "                                  tf.keras.layers.Conv2D(64,(3,3),activation='relu',input_shape=(28,28,1)),\n",
        "                                  tf.keras.layers.MaxPooling2D((2,2)),\n",
        "                                  tf.keras.layers.Conv2D(64,(3,3),activation='relu'),\n",
        "                                  tf.keras.layers.MaxPooling2D((2,2)),\n",
        "                                  tf.keras.layers.Flatten(),\n",
        "                                  tf.keras.layers.Dense(128,activation='relu'),\n",
        "                                  tf.keras.layers.Dense(10,activation='softmax')\n",
        "])\n",
        "model.compile(optimizer='adam',loss='sparse_categorical_crossentropy',metrics=['accuracy'])\n",
        "model.summary()\n",
        "model.fit(X_train,y_train,epochs=10)\n",
        "\n",
        "print(\"My testing results are give below\")\n",
        "\n",
        "test_loss=model.evaluate(X_test,y_test)\n",
        "\n",
        "\n",
        "\n",
        "\n"
      ],
      "execution_count": 1,
      "outputs": [
        {
          "output_type": "stream",
          "text": [
            "Downloading data from https://storage.googleapis.com/tensorflow/tf-keras-datasets/train-labels-idx1-ubyte.gz\n",
            "32768/29515 [=================================] - 0s 0us/step\n",
            "Downloading data from https://storage.googleapis.com/tensorflow/tf-keras-datasets/train-images-idx3-ubyte.gz\n",
            "26427392/26421880 [==============================] - 0s 0us/step\n",
            "Downloading data from https://storage.googleapis.com/tensorflow/tf-keras-datasets/t10k-labels-idx1-ubyte.gz\n",
            "8192/5148 [===============================================] - 0s 0us/step\n",
            "Downloading data from https://storage.googleapis.com/tensorflow/tf-keras-datasets/t10k-images-idx3-ubyte.gz\n",
            "4423680/4422102 [==============================] - 0s 0us/step\n",
            "Model: \"sequential\"\n",
            "_________________________________________________________________\n",
            "Layer (type)                 Output Shape              Param #   \n",
            "=================================================================\n",
            "conv2d (Conv2D)              (None, 26, 26, 64)        640       \n",
            "_________________________________________________________________\n",
            "max_pooling2d (MaxPooling2D) (None, 13, 13, 64)        0         \n",
            "_________________________________________________________________\n",
            "conv2d_1 (Conv2D)            (None, 11, 11, 64)        36928     \n",
            "_________________________________________________________________\n",
            "max_pooling2d_1 (MaxPooling2 (None, 5, 5, 64)          0         \n",
            "_________________________________________________________________\n",
            "flatten (Flatten)            (None, 1600)              0         \n",
            "_________________________________________________________________\n",
            "dense (Dense)                (None, 128)               204928    \n",
            "_________________________________________________________________\n",
            "dense_1 (Dense)              (None, 10)                1290      \n",
            "=================================================================\n",
            "Total params: 243,786\n",
            "Trainable params: 243,786\n",
            "Non-trainable params: 0\n",
            "_________________________________________________________________\n",
            "Epoch 1/10\n",
            "1875/1875 [==============================] - 11s 6ms/step - loss: 0.4340 - accuracy: 0.8426\n",
            "Epoch 2/10\n",
            "1875/1875 [==============================] - 11s 6ms/step - loss: 0.2915 - accuracy: 0.8937\n",
            "Epoch 3/10\n",
            "1875/1875 [==============================] - 11s 6ms/step - loss: 0.2462 - accuracy: 0.9086\n",
            "Epoch 4/10\n",
            "1875/1875 [==============================] - 11s 6ms/step - loss: 0.2133 - accuracy: 0.9190\n",
            "Epoch 5/10\n",
            "1875/1875 [==============================] - 11s 6ms/step - loss: 0.1850 - accuracy: 0.9304\n",
            "Epoch 6/10\n",
            "1875/1875 [==============================] - 11s 6ms/step - loss: 0.1640 - accuracy: 0.9387\n",
            "Epoch 7/10\n",
            "1875/1875 [==============================] - 11s 6ms/step - loss: 0.1413 - accuracy: 0.9472\n",
            "Epoch 8/10\n",
            "1875/1875 [==============================] - 11s 6ms/step - loss: 0.1249 - accuracy: 0.9524\n",
            "Epoch 9/10\n",
            "1875/1875 [==============================] - 11s 6ms/step - loss: 0.1094 - accuracy: 0.9597\n",
            "Epoch 10/10\n",
            "1875/1875 [==============================] - 11s 6ms/step - loss: 0.0952 - accuracy: 0.9638\n",
            "My testing results are give below\n",
            "313/313 [==============================] - 1s 4ms/step - loss: 0.3085 - accuracy: 0.9112\n"
          ],
          "name": "stdout"
        }
      ]
    },
    {
      "cell_type": "code",
      "metadata": {
        "id": "QPibtSDB8y38",
        "colab_type": "code",
        "colab": {}
      },
      "source": [
        "import os\n",
        "data_path='desktop/document/machinelearning/'\n",
        "train_dir=os.listdir('datapath+ ')"
      ],
      "execution_count": null,
      "outputs": []
    }
  ]
}