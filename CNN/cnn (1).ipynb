{
  "nbformat": 4,
  "nbformat_minor": 0,
  "metadata": {
    "kernelspec": {
      "display_name": "Python 3",
      "language": "python",
      "name": "python3"
    },
    "language_info": {
      "codemirror_mode": {
        "name": "ipython",
        "version": 3
      },
      "file_extension": ".py",
      "mimetype": "text/x-python",
      "name": "python",
      "nbconvert_exporter": "python",
      "pygments_lexer": "ipython3",
      "version": "3.6.9"
    },
    "colab": {
      "name": "cnn.ipynb",
      "provenance": []
    },
    "accelerator": "GPU"
  },
  "cells": [
    {
      "cell_type": "code",
      "metadata": {
        "id": "pQwwazEJyc-K",
        "colab_type": "code",
        "colab": {}
      },
      "source": [
        "import numpy as np \n",
        "import pandas as pd\n",
        "import matplotlib.pyplot as plt\n",
        "from keras.models import Sequential\n",
        "from keras.activations import relu,tanh\n",
        "from keras.optimizers import Adam\n",
        "from keras.layers import Conv2D,MaxPooling2D,Flatten,Dense,AveragePooling2D,Dropout\n",
        "from keras.utils import np_utils\n"
      ],
      "execution_count": 62,
      "outputs": []
    },
    {
      "cell_type": "code",
      "metadata": {
        "id": "KBNqW4T5yeB5",
        "colab_type": "code",
        "colab": {
          "base_uri": "https://localhost:8080/",
          "height": 128
        },
        "outputId": "9f046349-23f9-4819-ac70-e03841573c22"
      },
      "source": [
        "from google.colab import drive\n",
        "drive.mount('/gdrive')"
      ],
      "execution_count": 9,
      "outputs": [
        {
          "output_type": "stream",
          "text": [
            "Go to this URL in a browser: https://accounts.google.com/o/oauth2/auth?client_id=947318989803-6bn6qk8qdgf4n4g3pfee6491hc0brc4i.apps.googleusercontent.com&redirect_uri=urn%3aietf%3awg%3aoauth%3a2.0%3aoob&response_type=code&scope=email%20https%3a%2f%2fwww.googleapis.com%2fauth%2fdocs.test%20https%3a%2f%2fwww.googleapis.com%2fauth%2fdrive%20https%3a%2f%2fwww.googleapis.com%2fauth%2fdrive.photos.readonly%20https%3a%2f%2fwww.googleapis.com%2fauth%2fpeopleapi.readonly\n",
            "\n",
            "Enter your authorization code:\n",
            "··········\n",
            "Mounted at /gdrive\n"
          ],
          "name": "stdout"
        }
      ]
    },
    {
      "cell_type": "code",
      "metadata": {
        "id": "oEnLygSFyeGn",
        "colab_type": "code",
        "colab": {}
      },
      "source": [
        ""
      ],
      "execution_count": null,
      "outputs": []
    },
    {
      "cell_type": "code",
      "metadata": {
        "id": "0q2H-C0NyeJq",
        "colab_type": "code",
        "colab": {}
      },
      "source": [
        ""
      ],
      "execution_count": null,
      "outputs": []
    },
    {
      "cell_type": "code",
      "metadata": {
        "id": "L3i1xyRNyc-Q",
        "colab_type": "code",
        "colab": {}
      },
      "source": [
        "data=pd.read_csv('/gdrive/My Drive/Colab Notebooks/CNN/fashion-mnist_test.csv')"
      ],
      "execution_count": 63,
      "outputs": []
    },
    {
      "cell_type": "code",
      "metadata": {
        "id": "sdar0cs2yc-V",
        "colab_type": "code",
        "colab": {}
      },
      "source": [
        "x=data.values"
      ],
      "execution_count": 64,
      "outputs": []
    },
    {
      "cell_type": "code",
      "metadata": {
        "id": "Jl529zLUyc-Z",
        "colab_type": "code",
        "colab": {
          "base_uri": "https://localhost:8080/",
          "height": 35
        },
        "outputId": "ca003a40-bbf0-4b46-f2e4-4a6b2eade476"
      },
      "source": [
        "X=x[:,1:]\n",
        "y=x[:,0]\n",
        "X=X/255.0\n",
        "X=X.reshape(-1,28,28,1)\n",
        "y=np_utils.to_categorical(y)\n",
        "print(X.shape,y.shape)"
      ],
      "execution_count": 65,
      "outputs": [
        {
          "output_type": "stream",
          "text": [
            "(10000, 28, 28, 1) (10000, 10)\n"
          ],
          "name": "stdout"
        }
      ]
    },
    {
      "cell_type": "code",
      "metadata": {
        "id": "fFOdBKjOyc-e",
        "colab_type": "code",
        "colab": {}
      },
      "source": [
        "np_utils.to_categorical?"
      ],
      "execution_count": 66,
      "outputs": []
    },
    {
      "cell_type": "code",
      "metadata": {
        "id": "I6euxQFpyc-h",
        "colab_type": "code",
        "colab": {
          "base_uri": "https://localhost:8080/",
          "height": 635
        },
        "outputId": "eef58197-8bdf-4139-ea55-bb23baa92c5f"
      },
      "source": [
        "model=Sequential()\n",
        "model.add(Conv2D(16,(3,3),activation='relu',input_shape=(28,28,1)))\n",
        "model.add(Conv2D(32,(3,3),activation='relu'))\n",
        "model.add(Dropout(0.25))\n",
        "model.add(MaxPooling2D((2,2)))\n",
        "model.add(Conv2D(64,(3,3),activation='relu'))\n",
        "model.add(Conv2D(32,(3,3),activation='relu'))\n",
        "model.add(Dropout(0.25))\n",
        "model.add(MaxPooling2D((2,2)))\n",
        "model.add(Conv2D(64,(3,3),activation='relu'))\n",
        "model.add(Dropout(0.25))\n",
        "model.add(Flatten())\n",
        "model.add(Dense(64,activation='relu'))\n",
        "model.add(Dense(10,activation='softmax'))\n",
        "model.summary()"
      ],
      "execution_count": 67,
      "outputs": [
        {
          "output_type": "stream",
          "text": [
            "Model: \"sequential_3\"\n",
            "_________________________________________________________________\n",
            "Layer (type)                 Output Shape              Param #   \n",
            "=================================================================\n",
            "conv2d_11 (Conv2D)           (None, 26, 26, 16)        160       \n",
            "_________________________________________________________________\n",
            "conv2d_12 (Conv2D)           (None, 24, 24, 32)        4640      \n",
            "_________________________________________________________________\n",
            "dropout_7 (Dropout)          (None, 24, 24, 32)        0         \n",
            "_________________________________________________________________\n",
            "max_pooling2d_5 (MaxPooling2 (None, 12, 12, 32)        0         \n",
            "_________________________________________________________________\n",
            "conv2d_13 (Conv2D)           (None, 10, 10, 64)        18496     \n",
            "_________________________________________________________________\n",
            "conv2d_14 (Conv2D)           (None, 8, 8, 32)          18464     \n",
            "_________________________________________________________________\n",
            "dropout_8 (Dropout)          (None, 8, 8, 32)          0         \n",
            "_________________________________________________________________\n",
            "max_pooling2d_6 (MaxPooling2 (None, 4, 4, 32)          0         \n",
            "_________________________________________________________________\n",
            "conv2d_15 (Conv2D)           (None, 2, 2, 64)          18496     \n",
            "_________________________________________________________________\n",
            "dropout_9 (Dropout)          (None, 2, 2, 64)          0         \n",
            "_________________________________________________________________\n",
            "flatten_3 (Flatten)          (None, 256)               0         \n",
            "_________________________________________________________________\n",
            "dense_5 (Dense)              (None, 64)                16448     \n",
            "_________________________________________________________________\n",
            "dense_6 (Dense)              (None, 10)                650       \n",
            "=================================================================\n",
            "Total params: 77,354\n",
            "Trainable params: 77,354\n",
            "Non-trainable params: 0\n",
            "_________________________________________________________________\n"
          ],
          "name": "stdout"
        }
      ]
    },
    {
      "cell_type": "code",
      "metadata": {
        "id": "vSNKKVnkyc-l",
        "colab_type": "code",
        "colab": {}
      },
      "source": [
        "model.compile(loss='categorical_crossentropy',optimizer=Adam(lr=0.001),metrics=['accuracy'])"
      ],
      "execution_count": 68,
      "outputs": []
    },
    {
      "cell_type": "code",
      "metadata": {
        "id": "s2tteEZL0_fn",
        "colab_type": "code",
        "colab": {}
      },
      "source": [
        "import tensorflow as tf\n",
        "from tensorflow import keras"
      ],
      "execution_count": 69,
      "outputs": []
    },
    {
      "cell_type": "code",
      "metadata": {
        "id": "sIXqDVh4yc-p",
        "colab_type": "code",
        "colab": {}
      },
      "source": [
        "class myCallback(tf.keras.callbacks.Callback):\n",
        "  def on_epoch_end(self, epoch, logs={}):\n",
        "    if(logs.get('accuracy')>95):\n",
        "      print(\"\\nReached 60% accuracy so cancelling training!\")\n",
        "      self.model.stop_training = True\n",
        "callbacks=myCallback()"
      ],
      "execution_count": 72,
      "outputs": []
    },
    {
      "cell_type": "code",
      "metadata": {
        "id": "s5yscJ1Vyc-u",
        "colab_type": "code",
        "colab": {
          "base_uri": "https://localhost:8080/",
          "height": 763
        },
        "outputId": "bd13624a-2ea6-417d-bb27-c0dbfc61fd81"
      },
      "source": [
        "hist=model.fit(X,y,epochs=20,batch_size=64,validation_split=0.20,callbacks=[callbacks])"
      ],
      "execution_count": 73,
      "outputs": [
        {
          "output_type": "stream",
          "text": [
            "Train on 8000 samples, validate on 2000 samples\n",
            "Epoch 1/20\n",
            "8000/8000 [==============================] - 2s 266us/step - loss: 0.6845 - accuracy: 0.7385 - val_loss: 0.6224 - val_accuracy: 0.7890\n",
            "Epoch 2/20\n",
            "8000/8000 [==============================] - 2s 263us/step - loss: 0.5827 - accuracy: 0.7739 - val_loss: 0.5562 - val_accuracy: 0.8195\n",
            "Epoch 3/20\n",
            "8000/8000 [==============================] - 2s 260us/step - loss: 0.5264 - accuracy: 0.8015 - val_loss: 0.5187 - val_accuracy: 0.8305\n",
            "Epoch 4/20\n",
            "8000/8000 [==============================] - 2s 262us/step - loss: 0.4949 - accuracy: 0.8151 - val_loss: 0.5435 - val_accuracy: 0.8310\n",
            "Epoch 5/20\n",
            "8000/8000 [==============================] - 2s 265us/step - loss: 0.4631 - accuracy: 0.8253 - val_loss: 0.4488 - val_accuracy: 0.8490\n",
            "Epoch 6/20\n",
            "8000/8000 [==============================] - 2s 262us/step - loss: 0.4219 - accuracy: 0.8420 - val_loss: 0.4272 - val_accuracy: 0.8555\n",
            "Epoch 7/20\n",
            "8000/8000 [==============================] - 2s 259us/step - loss: 0.4078 - accuracy: 0.8481 - val_loss: 0.4214 - val_accuracy: 0.8655\n",
            "Epoch 8/20\n",
            "8000/8000 [==============================] - 2s 264us/step - loss: 0.3758 - accuracy: 0.8624 - val_loss: 0.3994 - val_accuracy: 0.8635\n",
            "Epoch 9/20\n",
            "8000/8000 [==============================] - 2s 261us/step - loss: 0.3588 - accuracy: 0.8658 - val_loss: 0.4046 - val_accuracy: 0.8695\n",
            "Epoch 10/20\n",
            "8000/8000 [==============================] - 2s 265us/step - loss: 0.3378 - accuracy: 0.8717 - val_loss: 0.3834 - val_accuracy: 0.8695\n",
            "Epoch 11/20\n",
            "8000/8000 [==============================] - 2s 265us/step - loss: 0.3239 - accuracy: 0.8800 - val_loss: 0.3570 - val_accuracy: 0.8695\n",
            "Epoch 12/20\n",
            "8000/8000 [==============================] - 2s 262us/step - loss: 0.3099 - accuracy: 0.8816 - val_loss: 0.3675 - val_accuracy: 0.8805\n",
            "Epoch 13/20\n",
            "8000/8000 [==============================] - 2s 262us/step - loss: 0.2918 - accuracy: 0.8891 - val_loss: 0.3536 - val_accuracy: 0.8690\n",
            "Epoch 14/20\n",
            "8000/8000 [==============================] - 2s 263us/step - loss: 0.2832 - accuracy: 0.8890 - val_loss: 0.3376 - val_accuracy: 0.8820\n",
            "Epoch 15/20\n",
            "8000/8000 [==============================] - 2s 263us/step - loss: 0.2822 - accuracy: 0.8926 - val_loss: 0.3308 - val_accuracy: 0.8815\n",
            "Epoch 16/20\n",
            "8000/8000 [==============================] - 2s 266us/step - loss: 0.2685 - accuracy: 0.8985 - val_loss: 0.3297 - val_accuracy: 0.8820\n",
            "Epoch 17/20\n",
            "8000/8000 [==============================] - 2s 278us/step - loss: 0.2615 - accuracy: 0.9015 - val_loss: 0.3148 - val_accuracy: 0.8895\n",
            "Epoch 18/20\n",
            "8000/8000 [==============================] - 2s 280us/step - loss: 0.2565 - accuracy: 0.9010 - val_loss: 0.3270 - val_accuracy: 0.8815\n",
            "Epoch 19/20\n",
            "8000/8000 [==============================] - 2s 269us/step - loss: 0.2313 - accuracy: 0.9107 - val_loss: 0.3270 - val_accuracy: 0.8890\n",
            "Epoch 20/20\n",
            "8000/8000 [==============================] - 2s 262us/step - loss: 0.2314 - accuracy: 0.9107 - val_loss: 0.3466 - val_accuracy: 0.8805\n"
          ],
          "name": "stdout"
        }
      ]
    },
    {
      "cell_type": "code",
      "metadata": {
        "id": "RU4f_Lksyc-x",
        "colab_type": "code",
        "colab": {
          "base_uri": "https://localhost:8080/",
          "height": 265
        },
        "outputId": "94f6ae69-4305-4990-8943-83a5efc7845b"
      },
      "source": [
        "plt.plot(hist.history['val_loss'],color='blue')\n",
        "plt.plot(hist.history['val_accuracy'],color='green')\n",
        "plt.plot(hist.history['loss'],color='yellow')\n",
        "plt.plot(hist.history['accuracy'],color='black')\n",
        "plt.show()"
      ],
      "execution_count": 74,
      "outputs": [
        {
          "output_type": "display_data",
          "data": {
            "image/png": "[encoded data removed]",
            "text/plain": [
              "<Figure size 432x288 with 1 Axes>"
            ]
          },
          "metadata": {
            "tags": [],
            "needs_background": "light"
          }
        }
      ]
    },
    {
      "cell_type": "code",
      "metadata": {
        "id": "IaCSMNxxyc-0",
        "colab_type": "code",
        "colab": {}
      },
      "source": [
        "from keras.models import load_model"
      ],
      "execution_count": 75,
      "outputs": []
    },
    {
      "cell_type": "code",
      "metadata": {
        "id": "6W-ulkMA3syZ",
        "colab_type": "code",
        "colab": {}
      },
      "source": [
        "model.save('cnn.h5')"
      ],
      "execution_count": 76,
      "outputs": []
    },
    {
      "cell_type": "code",
      "metadata": {
        "id": "B-b6f7m93v70",
        "colab_type": "code",
        "colab": {}
      },
      "source": [
        "loaded_model=load_model('./cnn.h5')"
      ],
      "execution_count": 77,
      "outputs": []
    },
    {
      "cell_type": "code",
      "metadata": {
        "id": "V30EoBat31Vl",
        "colab_type": "code",
        "colab": {
          "base_uri": "https://localhost:8080/",
          "height": 635
        },
        "outputId": "ff5002a5-58ba-4c7d-b13c-46c89f006244"
      },
      "source": [
        "loaded_model.summary()"
      ],
      "execution_count": 78,
      "outputs": [
        {
          "output_type": "stream",
          "text": [
            "Model: \"sequential_3\"\n",
            "_________________________________________________________________\n",
            "Layer (type)                 Output Shape              Param #   \n",
            "=================================================================\n",
            "conv2d_11 (Conv2D)           (None, 26, 26, 16)        160       \n",
            "_________________________________________________________________\n",
            "conv2d_12 (Conv2D)           (None, 24, 24, 32)        4640      \n",
            "_________________________________________________________________\n",
            "dropout_7 (Dropout)          (None, 24, 24, 32)        0         \n",
            "_________________________________________________________________\n",
            "max_pooling2d_5 (MaxPooling2 (None, 12, 12, 32)        0         \n",
            "_________________________________________________________________\n",
            "conv2d_13 (Conv2D)           (None, 10, 10, 64)        18496     \n",
            "_________________________________________________________________\n",
            "conv2d_14 (Conv2D)           (None, 8, 8, 32)          18464     \n",
            "_________________________________________________________________\n",
            "dropout_8 (Dropout)          (None, 8, 8, 32)          0         \n",
            "_________________________________________________________________\n",
            "max_pooling2d_6 (MaxPooling2 (None, 4, 4, 32)          0         \n",
            "_________________________________________________________________\n",
            "conv2d_15 (Conv2D)           (None, 2, 2, 64)          18496     \n",
            "_________________________________________________________________\n",
            "dropout_9 (Dropout)          (None, 2, 2, 64)          0         \n",
            "_________________________________________________________________\n",
            "flatten_3 (Flatten)          (None, 256)               0         \n",
            "_________________________________________________________________\n",
            "dense_5 (Dense)              (None, 64)                16448     \n",
            "_________________________________________________________________\n",
            "dense_6 (Dense)              (None, 10)                650       \n",
            "=================================================================\n",
            "Total params: 77,354\n",
            "Trainable params: 77,354\n",
            "Non-trainable params: 0\n",
            "_________________________________________________________________\n"
          ],
          "name": "stdout"
        }
      ]
    },
    {
      "cell_type": "code",
      "metadata": {
        "id": "bQx3c8do34zk",
        "colab_type": "code",
        "colab": {}
      },
      "source": [
        ""
      ],
      "execution_count": 58,
      "outputs": []
    },
    {
      "cell_type": "code",
      "metadata": {
        "id": "DOJX3_r24EBm",
        "colab_type": "code",
        "colab": {
          "base_uri": "https://localhost:8080/",
          "height": 35
        },
        "outputId": "03ac368c-0592-47f0-9d82-2ded7dfe8891"
      },
      "source": [
        ""
      ],
      "execution_count": 59,
      "outputs": [
        {
          "output_type": "stream",
          "text": [
            "(1000, 10)\n"
          ],
          "name": "stdout"
        }
      ]
    },
    {
      "cell_type": "code",
      "metadata": {
        "id": "E4LkgyoI4GUs",
        "colab_type": "code",
        "colab": {}
      },
      "source": [
        ""
      ],
      "execution_count": null,
      "outputs": []
    }
  ]
}