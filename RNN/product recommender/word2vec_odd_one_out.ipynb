{
 "cells": [
  {
   "cell_type": "code",
   "execution_count": 1,
   "metadata": {},
   "outputs": [],
   "source": [
    "from glove_vec import read_glove_vectors\n",
    "from sklearn.metrics.pairwise import cosine_similarity\n",
    "import numpy as np"
   ]
  },
  {
   "cell_type": "code",
   "execution_count": 2,
   "metadata": {},
   "outputs": [],
   "source": [
    "word_embedding_dict = read_glove_vectors(\"/home/vasu/all_projects/CB/glove.6B.50d.txt\")"
   ]
  },
  {
   "cell_type": "code",
   "execution_count": 3,
   "metadata": {},
   "outputs": [
    {
     "data": {
      "text/plain": [
       "array([-0.36661 ,  1.0584  , -0.65378 ,  0.17674 ,  1.0605  , -0.72541 ,\n",
       "       -0.009721,  0.07969 , -0.4649  , -0.74347 , -0.64147 , -0.16837 ,\n",
       "       -0.48926 ,  0.56673 ,  0.73102 ,  0.18387 ,  0.34366 , -0.19158 ,\n",
       "        0.066052, -1.3434  ,  0.50813 , -0.21998 ,  0.46182 ,  0.65796 ,\n",
       "       -0.19109 , -0.6428  , -0.14994 ,  0.74716 , -0.23347 , -0.16557 ,\n",
       "        2.8593  ,  0.60577 , -0.63465 ,  0.45448 ,  0.14856 ,  0.53445 ,\n",
       "        0.27442 ,  1.0104  ,  0.079507, -0.44915 ,  0.46796 , -0.49001 ,\n",
       "       -0.20323 ,  0.65496 ,  0.16845 ,  0.50674 ,  0.62557 ,  0.071343,\n",
       "        0.61898 , -0.99744 ], dtype=float32)"
      ]
     },
     "execution_count": 3,
     "metadata": {},
     "output_type": "execute_result"
    }
   ],
   "source": [
    "word_embedding_dict[\"table\"]"
   ]
  },
  {
   "cell_type": "code",
   "execution_count": 4,
   "metadata": {},
   "outputs": [
    {
     "data": {
      "text/plain": [
       "(50,)"
      ]
     },
     "execution_count": 4,
     "metadata": {},
     "output_type": "execute_result"
    }
   ],
   "source": [
    "word_embedding_dict[\"table\"].shape"
   ]
  },
  {
   "cell_type": "markdown",
   "metadata": {},
   "source": [
    "## ODD ONE OUT"
   ]
  },
  {
   "cell_type": "code",
   "execution_count": 18,
   "metadata": {},
   "outputs": [],
   "source": [
    "apple = word_embedding_dict[\"sleeping\"].reshape(1,-1)\n",
    "mango = word_embedding_dict[\"playing\"].reshape(1,-1)\n",
    "banana = word_embedding_dict[\"dancing\"].reshape(1,-1)\n",
    "kiwi = word_embedding_dict[\"moving\"].reshape(1,-1)\n",
    "chair = word_embedding_dict[\"bat\"].reshape(1,-1) "
   ]
  },
  {
   "cell_type": "code",
   "execution_count": 19,
   "metadata": {},
   "outputs": [],
   "source": [
    "avg_vec = np.sum(np.array([apple,mango,banana,kiwi,chair]), axis=0)/5"
   ]
  },
  {
   "cell_type": "code",
   "execution_count": 20,
   "metadata": {},
   "outputs": [
    {
     "data": {
      "text/plain": [
       "array([[0.68821794]], dtype=float32)"
      ]
     },
     "execution_count": 20,
     "metadata": {},
     "output_type": "execute_result"
    }
   ],
   "source": [
    "cosine_similarity(avg_vec,apple)"
   ]
  },
  {
   "cell_type": "code",
   "execution_count": 21,
   "metadata": {},
   "outputs": [
    {
     "data": {
      "text/plain": [
       "array([[0.8414831]], dtype=float32)"
      ]
     },
     "execution_count": 21,
     "metadata": {},
     "output_type": "execute_result"
    }
   ],
   "source": [
    "cosine_similarity(avg_vec,mango)"
   ]
  },
  {
   "cell_type": "code",
   "execution_count": 22,
   "metadata": {},
   "outputs": [
    {
     "data": {
      "text/plain": [
       "array([[0.7845105]], dtype=float32)"
      ]
     },
     "execution_count": 22,
     "metadata": {},
     "output_type": "execute_result"
    }
   ],
   "source": [
    "cosine_similarity(avg_vec,banana)"
   ]
  },
  {
   "cell_type": "code",
   "execution_count": 23,
   "metadata": {},
   "outputs": [
    {
     "data": {
      "text/plain": [
       "array([[0.7077991]], dtype=float32)"
      ]
     },
     "execution_count": 23,
     "metadata": {},
     "output_type": "execute_result"
    }
   ],
   "source": [
    "cosine_similarity(avg_vec,kiwi)"
   ]
  },
  {
   "cell_type": "code",
   "execution_count": 24,
   "metadata": {},
   "outputs": [
    {
     "data": {
      "text/plain": [
       "array([[0.64428294]], dtype=float32)"
      ]
     },
     "execution_count": 24,
     "metadata": {},
     "output_type": "execute_result"
    }
   ],
   "source": [
    "cosine_similarity(avg_vec,chair)"
   ]
  }
 ],
 "metadata": {
  "kernelspec": {
   "display_name": "Python 3",
   "language": "python",
   "name": "python3"
  },
  "language_info": {
   "codemirror_mode": {
    "name": "ipython",
    "version": 3
   },
   "file_extension": ".py",
   "mimetype": "text/x-python",
   "name": "python",
   "nbconvert_exporter": "python",
   "pygments_lexer": "ipython3",
   "version": "3.6.9"
  }
 },
 "nbformat": 4,
 "nbformat_minor": 2
}
