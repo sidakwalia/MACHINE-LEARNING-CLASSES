{
 "cells": [
  {
   "cell_type": "code",
   "execution_count": 1,
   "metadata": {},
   "outputs": [
    {
     "name": "stderr",
     "output_type": "stream",
     "text": [
      "Using TensorFlow backend.\n"
     ]
    }
   ],
   "source": [
    "import numpy as np\n",
    "import pandas as pd\n",
    "import emoji\n",
    "from glove_vec import read_glove_vectors\n",
    "\n",
    "from keras.models import Sequential\n",
    "from keras.layers import Dense, Input, Dropout, SimpleRNN, LSTM, Activation\n",
    "from keras.utils import np_utils\n",
    "\n",
    "import matplotlib.pyplot as plt"
   ]
  },
  {
   "cell_type": "code",
   "execution_count": 3,
   "metadata": {},
   "outputs": [],
   "source": [
    "train = pd.read_csv(\"train_emoji.csv\", header=None)\n",
    "test = pd.read_csv(\"test_emoji.csv\", header=None)"
   ]
  },
  {
   "cell_type": "code",
   "execution_count": 4,
   "metadata": {},
   "outputs": [
    {
     "data": {
      "text/html": [
       "<div>\n",
       "<style scoped>\n",
       "    .dataframe tbody tr th:only-of-type {\n",
       "        vertical-align: middle;\n",
       "    }\n",
       "\n",
       "    .dataframe tbody tr th {\n",
       "        vertical-align: top;\n",
       "    }\n",
       "\n",
       "    .dataframe thead th {\n",
       "        text-align: right;\n",
       "    }\n",
       "</style>\n",
       "<table border=\"1\" class=\"dataframe\">\n",
       "  <thead>\n",
       "    <tr style=\"text-align: right;\">\n",
       "      <th></th>\n",
       "      <th>0</th>\n",
       "      <th>1</th>\n",
       "      <th>2</th>\n",
       "      <th>3</th>\n",
       "    </tr>\n",
       "  </thead>\n",
       "  <tbody>\n",
       "    <tr>\n",
       "      <th>0</th>\n",
       "      <td>never talk to me again</td>\n",
       "      <td>3</td>\n",
       "      <td>NaN</td>\n",
       "      <td>NaN</td>\n",
       "    </tr>\n",
       "    <tr>\n",
       "      <th>1</th>\n",
       "      <td>I am proud of your achievements</td>\n",
       "      <td>2</td>\n",
       "      <td>NaN</td>\n",
       "      <td>NaN</td>\n",
       "    </tr>\n",
       "    <tr>\n",
       "      <th>2</th>\n",
       "      <td>It is the worst day in my life</td>\n",
       "      <td>3</td>\n",
       "      <td>NaN</td>\n",
       "      <td>NaN</td>\n",
       "    </tr>\n",
       "    <tr>\n",
       "      <th>3</th>\n",
       "      <td>Miss you so much</td>\n",
       "      <td>0</td>\n",
       "      <td>NaN</td>\n",
       "      <td>[0]</td>\n",
       "    </tr>\n",
       "    <tr>\n",
       "      <th>4</th>\n",
       "      <td>food is life</td>\n",
       "      <td>4</td>\n",
       "      <td>NaN</td>\n",
       "      <td>NaN</td>\n",
       "    </tr>\n",
       "  </tbody>\n",
       "</table>\n",
       "</div>"
      ],
      "text/plain": [
       "                                 0  1   2     3\n",
       "0           never talk to me again  3 NaN   NaN\n",
       "1  I am proud of your achievements  2 NaN   NaN\n",
       "2   It is the worst day in my life  3 NaN   NaN\n",
       "3                 Miss you so much  0 NaN   [0]\n",
       "4                     food is life  4 NaN   NaN"
      ]
     },
     "execution_count": 4,
     "metadata": {},
     "output_type": "execute_result"
    }
   ],
   "source": [
    "train.head()"
   ]
  },
  {
   "cell_type": "code",
   "execution_count": 5,
   "metadata": {},
   "outputs": [
    {
     "data": {
      "text/html": [
       "<div>\n",
       "<style scoped>\n",
       "    .dataframe tbody tr th:only-of-type {\n",
       "        vertical-align: middle;\n",
       "    }\n",
       "\n",
       "    .dataframe tbody tr th {\n",
       "        vertical-align: top;\n",
       "    }\n",
       "\n",
       "    .dataframe thead th {\n",
       "        text-align: right;\n",
       "    }\n",
       "</style>\n",
       "<table border=\"1\" class=\"dataframe\">\n",
       "  <thead>\n",
       "    <tr style=\"text-align: right;\">\n",
       "      <th></th>\n",
       "      <th>0</th>\n",
       "      <th>1</th>\n",
       "    </tr>\n",
       "  </thead>\n",
       "  <tbody>\n",
       "    <tr>\n",
       "      <th>0</th>\n",
       "      <td>I want to eat\\t</td>\n",
       "      <td>4</td>\n",
       "    </tr>\n",
       "    <tr>\n",
       "      <th>1</th>\n",
       "      <td>he did not answer\\t</td>\n",
       "      <td>3</td>\n",
       "    </tr>\n",
       "    <tr>\n",
       "      <th>2</th>\n",
       "      <td>he got a raise\\t</td>\n",
       "      <td>2</td>\n",
       "    </tr>\n",
       "    <tr>\n",
       "      <th>3</th>\n",
       "      <td>she got me a present\\t</td>\n",
       "      <td>0</td>\n",
       "    </tr>\n",
       "    <tr>\n",
       "      <th>4</th>\n",
       "      <td>ha ha ha it was so funny\\t</td>\n",
       "      <td>2</td>\n",
       "    </tr>\n",
       "  </tbody>\n",
       "</table>\n",
       "</div>"
      ],
      "text/plain": [
       "                            0  1\n",
       "0             I want to eat\\t  4\n",
       "1         he did not answer\\t  3\n",
       "2            he got a raise\\t  2\n",
       "3      she got me a present\\t  0\n",
       "4  ha ha ha it was so funny\\t  2"
      ]
     },
     "execution_count": 5,
     "metadata": {},
     "output_type": "execute_result"
    }
   ],
   "source": [
    "test.head()"
   ]
  },
  {
   "cell_type": "code",
   "execution_count": 6,
   "metadata": {},
   "outputs": [],
   "source": [
    "emoji_dict = {0 : \":heart:\", 1 : \":baseball:\", 2 : \":smile:\", \n",
    "              3 : \":disappointed:\", 4 : \":fork_and_knife:\"}"
   ]
  },
  {
   "cell_type": "code",
   "execution_count": 7,
   "metadata": {},
   "outputs": [
    {
     "name": "stdout",
     "output_type": "stream",
     "text": [
      "0 ❤\n",
      "1 ⚾\n",
      "2 😄\n",
      "3 😞\n",
      "4 🍴\n"
     ]
    }
   ],
   "source": [
    "for ix in emoji_dict.keys():\n",
    "    print (ix, emoji.emojize(emoji_dict[ix],use_aliases=True))"
   ]
  },
  {
   "cell_type": "code",
   "execution_count": 8,
   "metadata": {},
   "outputs": [
    {
     "name": "stdout",
     "output_type": "stream",
     "text": [
      "(132,) (132,)\n",
      "(56,) (56,)\n"
     ]
    }
   ],
   "source": [
    "X_train = train[0]\n",
    "Y_train = train[1]\n",
    "\n",
    "X_test = test[0]\n",
    "Y_test = test[1]\n",
    "\n",
    "print (X_train.shape, Y_train.shape)\n",
    "print (X_test.shape, Y_test.shape)"
   ]
  },
  {
   "cell_type": "code",
   "execution_count": 9,
   "metadata": {},
   "outputs": [
    {
     "name": "stdout",
     "output_type": "stream",
     "text": [
      "never talk to me again 3\n"
     ]
    }
   ],
   "source": [
    "print (X_train[0], Y_train[0])"
   ]
  },
  {
   "cell_type": "code",
   "execution_count": 10,
   "metadata": {},
   "outputs": [
    {
     "name": "stderr",
     "output_type": "stream",
     "text": [
      "/home/vasu/all_projects/calculai/RC/lib/python3.6/site-packages/ipykernel_launcher.py:2: SettingWithCopyWarning: \n",
      "A value is trying to be set on a copy of a slice from a DataFrame\n",
      "\n",
      "See the caveats in the documentation: http://pandas.pydata.org/pandas-docs/stable/indexing.html#indexing-view-versus-copy\n",
      "  \n",
      "/home/vasu/all_projects/calculai/RC/lib/python3.6/site-packages/ipykernel_launcher.py:5: SettingWithCopyWarning: \n",
      "A value is trying to be set on a copy of a slice from a DataFrame\n",
      "\n",
      "See the caveats in the documentation: http://pandas.pydata.org/pandas-docs/stable/indexing.html#indexing-view-versus-copy\n",
      "  \"\"\"\n"
     ]
    }
   ],
   "source": [
    "for ix in range(X_train.shape[0]):\n",
    "    X_train[ix] = X_train[ix].split()\n",
    "\n",
    "for ix in range(X_test.shape[0]):\n",
    "    X_test[ix] = X_test[ix].split()\n",
    "\n",
    "Y_train = np_utils.to_categorical(Y_train)"
   ]
  },
  {
   "cell_type": "code",
   "execution_count": 11,
   "metadata": {},
   "outputs": [
    {
     "name": "stdout",
     "output_type": "stream",
     "text": [
      "['never', 'talk', 'to', 'me', 'again'] [0. 0. 0. 1. 0.]\n"
     ]
    }
   ],
   "source": [
    "print (X_train[0], Y_train[0])"
   ]
  },
  {
   "cell_type": "code",
   "execution_count": 12,
   "metadata": {},
   "outputs": [
    {
     "data": {
      "text/plain": [
       "(array([ 1,  2,  3,  4,  5,  6,  7,  8,  9, 10]),\n",
       " array([ 4,  5, 26, 35, 20, 21, 11,  5,  1,  4]))"
      ]
     },
     "execution_count": 12,
     "metadata": {},
     "output_type": "execute_result"
    }
   ],
   "source": [
    "np.unique(np.array([len(ix) for ix in X_train]), return_counts=True)"
   ]
  },
  {
   "cell_type": "code",
   "execution_count": 13,
   "metadata": {},
   "outputs": [
    {
     "data": {
      "text/plain": [
       "(array([2, 3, 4, 5, 6, 7, 8]), array([ 3, 12, 16, 17,  3,  4,  1]))"
      ]
     },
     "execution_count": 13,
     "metadata": {},
     "output_type": "execute_result"
    }
   ],
   "source": [
    "np.unique(np.array([len(ix) for ix in X_test]), return_counts=True)"
   ]
  },
  {
   "cell_type": "code",
   "execution_count": 14,
   "metadata": {},
   "outputs": [],
   "source": [
    "emb_matrix = read_glove_vectors(\"/home/vasu/all_projects/CB/glove.6B.50d.txt\")"
   ]
  },
  {
   "cell_type": "code",
   "execution_count": 15,
   "metadata": {},
   "outputs": [
    {
     "name": "stdout",
     "output_type": "stream",
     "text": [
      "[ 1.1891e-01  1.5255e-01 -8.2073e-02 -7.4144e-01  7.5917e-01 -4.8328e-01\n",
      " -3.1009e-01  5.1476e-01 -9.8708e-01  6.1757e-04 -1.5043e-01  8.3770e-01\n",
      " -1.0797e+00 -5.1460e-01  1.3188e+00  6.2007e-01  1.3779e-01  4.7108e-01\n",
      " -7.2874e-02 -7.2675e-01 -7.4116e-01  7.5263e-01  8.8180e-01  2.9561e-01\n",
      "  1.3548e+00 -2.5701e+00 -1.3523e+00  4.5880e-01  1.0068e+00 -1.1856e+00\n",
      "  3.4737e+00  7.7898e-01 -7.2929e-01  2.5102e-01 -2.6156e-01 -3.4684e-01\n",
      "  5.5841e-01  7.5098e-01  4.9830e-01 -2.6823e-01 -2.7443e-03 -1.8298e-02\n",
      " -2.8096e-01  5.5318e-01  3.7706e-02  1.8555e-01 -1.5025e-01 -5.7512e-01\n",
      " -2.6671e-01  9.2121e-01] (50,)\n"
     ]
    }
   ],
   "source": [
    "print (emb_matrix[\"i\"], emb_matrix[\"i\"].shape)"
   ]
  },
  {
   "cell_type": "code",
   "execution_count": 16,
   "metadata": {},
   "outputs": [],
   "source": [
    "embeddings_train = np.zeros((X_train.shape[0], 10, 50))\n",
    "embeddings_test = np.zeros((X_test.shape[0], 10, 50))\n",
    "\n",
    "for ix in range(X_train.shape[0]):\n",
    "    for ij in range(len(X_train[ix])):\n",
    "        embeddings_train[ix][ij] = emb_matrix[X_train[ix][ij].lower()]\n",
    "        \n",
    "\n",
    "for ix in range(X_test.shape[0]):\n",
    "    for ij in range(len(X_test[ix])):\n",
    "        embeddings_test[ix][ij] = emb_matrix[X_test[ix][ij].lower()]"
   ]
  },
  {
   "cell_type": "code",
   "execution_count": 19,
   "metadata": {},
   "outputs": [
    {
     "name": "stdout",
     "output_type": "stream",
     "text": [
      "(132, 10, 50) (56, 10, 50)\n"
     ]
    }
   ],
   "source": [
    "print (embeddings_train.shape, embeddings_test.shape)"
   ]
  },
  {
   "cell_type": "code",
   "execution_count": 47,
   "metadata": {},
   "outputs": [
    {
     "name": "stdout",
     "output_type": "stream",
     "text": [
      "_________________________________________________________________\n",
      "Layer (type)                 Output Shape              Param #   \n",
      "=================================================================\n",
      "lstm_5 (LSTM)                (None, 10, 32)            10624     \n",
      "_________________________________________________________________\n",
      "dropout_11 (Dropout)         (None, 10, 32)            0         \n",
      "_________________________________________________________________\n",
      "lstm_6 (LSTM)                (None, 32)                8320      \n",
      "_________________________________________________________________\n",
      "dropout_12 (Dropout)         (None, 32)                0         \n",
      "_________________________________________________________________\n",
      "dense_6 (Dense)              (None, 5)                 165       \n",
      "=================================================================\n",
      "Total params: 19,109\n",
      "Trainable params: 19,109\n",
      "Non-trainable params: 0\n",
      "_________________________________________________________________\n"
     ]
    }
   ],
   "source": [
    "model = Sequential()\n",
    "model.add(LSTM(32, input_shape=(10,50), return_sequences=True))\n",
    "model.add(Dropout(0.5))\n",
    "model.add(LSTM(32, return_sequences=False))\n",
    "model.add(Dropout(0.5))\n",
    "model.add(Dense(5, activation='softmax'))\n",
    "\n",
    "model.summary()"
   ]
  },
  {
   "cell_type": "code",
   "execution_count": 48,
   "metadata": {},
   "outputs": [],
   "source": [
    "model.compile(loss=\"categorical_crossentropy\", optimizer=\"RMSprop\", metrics=['accuracy'])"
   ]
  },
  {
   "cell_type": "code",
   "execution_count": 49,
   "metadata": {
    "scrolled": true
   },
   "outputs": [
    {
     "name": "stdout",
     "output_type": "stream",
     "text": [
      "Train on 125 samples, validate on 7 samples\n",
      "Epoch 1/50\n",
      "125/125 [==============================] - 2s 18ms/step - loss: 1.6043 - acc: 0.2080 - val_loss: 1.6428 - val_acc: 0.1429\n",
      "Epoch 2/50\n",
      "125/125 [==============================] - 0s 1ms/step - loss: 1.5572 - acc: 0.3280 - val_loss: 1.6317 - val_acc: 0.1429\n",
      "Epoch 3/50\n",
      "125/125 [==============================] - 0s 1ms/step - loss: 1.4968 - acc: 0.4080 - val_loss: 1.6410 - val_acc: 0.1429\n",
      "Epoch 4/50\n",
      "125/125 [==============================] - 0s 1ms/step - loss: 1.4568 - acc: 0.3600 - val_loss: 1.6293 - val_acc: 0.1429\n",
      "Epoch 5/50\n",
      "125/125 [==============================] - 0s 1ms/step - loss: 1.3851 - acc: 0.4080 - val_loss: 1.5798 - val_acc: 0.1429\n",
      "Epoch 6/50\n",
      "125/125 [==============================] - 0s 2ms/step - loss: 1.3240 - acc: 0.4720 - val_loss: 1.4916 - val_acc: 0.2857\n",
      "Epoch 7/50\n",
      "125/125 [==============================] - 0s 3ms/step - loss: 1.2772 - acc: 0.4800 - val_loss: 1.4080 - val_acc: 0.4286\n",
      "Epoch 8/50\n",
      "125/125 [==============================] - 0s 1ms/step - loss: 1.2311 - acc: 0.5440 - val_loss: 1.4396 - val_acc: 0.4286\n",
      "Epoch 9/50\n",
      "125/125 [==============================] - 0s 2ms/step - loss: 1.1879 - acc: 0.5360 - val_loss: 1.2872 - val_acc: 0.5714\n",
      "Epoch 10/50\n",
      "125/125 [==============================] - 0s 2ms/step - loss: 1.1279 - acc: 0.5520 - val_loss: 1.3065 - val_acc: 0.5714\n",
      "Epoch 11/50\n",
      "125/125 [==============================] - 0s 2ms/step - loss: 1.0144 - acc: 0.6800 - val_loss: 1.2707 - val_acc: 0.5714\n",
      "Epoch 12/50\n",
      "125/125 [==============================] - 0s 2ms/step - loss: 0.9998 - acc: 0.5920 - val_loss: 1.1709 - val_acc: 0.7143\n",
      "Epoch 13/50\n",
      "125/125 [==============================] - 0s 2ms/step - loss: 0.9782 - acc: 0.6080 - val_loss: 1.0935 - val_acc: 0.8571\n",
      "Epoch 14/50\n",
      "125/125 [==============================] - 0s 2ms/step - loss: 0.9976 - acc: 0.5840 - val_loss: 1.2874 - val_acc: 0.4286\n",
      "Epoch 15/50\n",
      "125/125 [==============================] - 0s 2ms/step - loss: 0.8976 - acc: 0.6720 - val_loss: 1.3125 - val_acc: 0.4286\n",
      "Epoch 16/50\n",
      "125/125 [==============================] - 0s 2ms/step - loss: 0.8410 - acc: 0.6640 - val_loss: 1.0975 - val_acc: 0.4286\n",
      "Epoch 17/50\n",
      "125/125 [==============================] - 0s 2ms/step - loss: 0.8225 - acc: 0.7280 - val_loss: 1.0155 - val_acc: 0.7143\n",
      "Epoch 18/50\n",
      "125/125 [==============================] - 0s 3ms/step - loss: 0.7519 - acc: 0.7840 - val_loss: 1.1157 - val_acc: 0.4286\n",
      "Epoch 19/50\n",
      "125/125 [==============================] - 0s 2ms/step - loss: 0.7466 - acc: 0.7280 - val_loss: 0.8930 - val_acc: 0.8571\n",
      "Epoch 20/50\n",
      "125/125 [==============================] - 0s 2ms/step - loss: 0.6610 - acc: 0.7360 - val_loss: 1.0742 - val_acc: 0.7143\n",
      "Epoch 21/50\n",
      "125/125 [==============================] - 0s 2ms/step - loss: 0.6530 - acc: 0.7520 - val_loss: 0.9662 - val_acc: 0.5714\n",
      "Epoch 22/50\n",
      "125/125 [==============================] - 0s 2ms/step - loss: 0.5866 - acc: 0.8080 - val_loss: 1.1448 - val_acc: 0.4286\n",
      "Epoch 23/50\n",
      "125/125 [==============================] - 0s 1ms/step - loss: 0.6104 - acc: 0.8080 - val_loss: 0.9560 - val_acc: 0.8571\n",
      "Epoch 24/50\n",
      "125/125 [==============================] - 0s 2ms/step - loss: 0.6004 - acc: 0.7520 - val_loss: 0.7241 - val_acc: 0.8571\n",
      "Epoch 25/50\n",
      "125/125 [==============================] - 0s 2ms/step - loss: 0.5325 - acc: 0.8480 - val_loss: 1.1674 - val_acc: 0.4286\n",
      "Epoch 26/50\n",
      "125/125 [==============================] - 0s 2ms/step - loss: 0.4868 - acc: 0.8800 - val_loss: 0.9918 - val_acc: 0.7143\n",
      "Epoch 27/50\n",
      "125/125 [==============================] - 0s 1ms/step - loss: 0.5158 - acc: 0.8240 - val_loss: 1.2190 - val_acc: 0.7143\n",
      "Epoch 28/50\n",
      "125/125 [==============================] - 0s 2ms/step - loss: 0.4214 - acc: 0.8960 - val_loss: 0.8216 - val_acc: 0.7143\n",
      "Epoch 29/50\n",
      "125/125 [==============================] - 0s 2ms/step - loss: 0.4539 - acc: 0.8800 - val_loss: 1.1243 - val_acc: 0.4286\n",
      "Epoch 30/50\n",
      "125/125 [==============================] - 0s 2ms/step - loss: 0.3669 - acc: 0.9200 - val_loss: 0.5820 - val_acc: 0.8571\n",
      "Epoch 31/50\n",
      "125/125 [==============================] - 0s 2ms/step - loss: 0.3530 - acc: 0.9200 - val_loss: 0.9800 - val_acc: 0.5714\n",
      "Epoch 32/50\n",
      "125/125 [==============================] - 0s 2ms/step - loss: 0.2803 - acc: 0.9280 - val_loss: 0.9576 - val_acc: 0.4286\n",
      "Epoch 33/50\n",
      "125/125 [==============================] - 0s 2ms/step - loss: 0.4260 - acc: 0.8640 - val_loss: 1.1770 - val_acc: 0.4286\n",
      "Epoch 34/50\n",
      "125/125 [==============================] - 0s 2ms/step - loss: 0.3140 - acc: 0.9200 - val_loss: 0.8438 - val_acc: 0.7143\n",
      "Epoch 35/50\n",
      "125/125 [==============================] - 0s 2ms/step - loss: 0.3271 - acc: 0.8880 - val_loss: 0.5693 - val_acc: 0.8571\n",
      "Epoch 36/50\n",
      "125/125 [==============================] - 0s 2ms/step - loss: 0.4100 - acc: 0.8880 - val_loss: 0.7742 - val_acc: 0.8571\n",
      "Epoch 37/50\n",
      "125/125 [==============================] - 0s 3ms/step - loss: 0.2392 - acc: 0.9520 - val_loss: 0.7723 - val_acc: 0.7143\n",
      "Epoch 38/50\n",
      "125/125 [==============================] - 0s 2ms/step - loss: 0.2336 - acc: 0.9440 - val_loss: 0.7062 - val_acc: 0.7143\n",
      "Epoch 39/50\n",
      "125/125 [==============================] - 0s 2ms/step - loss: 0.3101 - acc: 0.9360 - val_loss: 0.7770 - val_acc: 0.7143\n",
      "Epoch 40/50\n",
      "125/125 [==============================] - 0s 2ms/step - loss: 0.2899 - acc: 0.9280 - val_loss: 0.8226 - val_acc: 0.7143\n",
      "Epoch 41/50\n",
      "125/125 [==============================] - 0s 2ms/step - loss: 0.2562 - acc: 0.9280 - val_loss: 0.6139 - val_acc: 0.7143\n",
      "Epoch 42/50\n",
      "125/125 [==============================] - 0s 2ms/step - loss: 0.2930 - acc: 0.9280 - val_loss: 0.5326 - val_acc: 0.8571\n",
      "Epoch 43/50\n",
      "125/125 [==============================] - 0s 2ms/step - loss: 0.2134 - acc: 0.9280 - val_loss: 0.6300 - val_acc: 0.7143\n",
      "Epoch 44/50\n",
      "125/125 [==============================] - 0s 2ms/step - loss: 0.2150 - acc: 0.9360 - val_loss: 1.3225 - val_acc: 0.4286\n",
      "Epoch 45/50\n",
      "125/125 [==============================] - 0s 3ms/step - loss: 0.1417 - acc: 0.9760 - val_loss: 2.3043 - val_acc: 0.2857\n",
      "Epoch 46/50\n",
      "125/125 [==============================] - 0s 2ms/step - loss: 0.1520 - acc: 0.9680 - val_loss: 1.0396 - val_acc: 0.7143\n",
      "Epoch 47/50\n",
      "125/125 [==============================] - 0s 2ms/step - loss: 0.1772 - acc: 0.9600 - val_loss: 0.8006 - val_acc: 0.8571\n",
      "Epoch 48/50\n",
      "125/125 [==============================] - 0s 2ms/step - loss: 0.1502 - acc: 0.9600 - val_loss: 1.5425 - val_acc: 0.7143\n",
      "Epoch 49/50\n",
      "125/125 [==============================] - 0s 2ms/step - loss: 0.1198 - acc: 0.9680 - val_loss: 1.4883 - val_acc: 0.5714\n",
      "Epoch 50/50\n",
      "125/125 [==============================] - 0s 2ms/step - loss: 0.1195 - acc: 0.9600 - val_loss: 1.4558 - val_acc: 0.5714\n"
     ]
    }
   ],
   "source": [
    "hist = model.fit(embeddings_train, Y_train, epochs=50, batch_size=12,shuffle=True, validation_split=0.05)"
   ]
  },
  {
   "cell_type": "code",
   "execution_count": 51,
   "metadata": {},
   "outputs": [],
   "source": [
    "pred = model.predict_classes(embeddings_test)"
   ]
  },
  {
   "cell_type": "code",
   "execution_count": 52,
   "metadata": {},
   "outputs": [],
   "source": [
    "acc = float(sum(pred==Y_test))/embeddings_test.shape[0]"
   ]
  },
  {
   "cell_type": "code",
   "execution_count": 53,
   "metadata": {},
   "outputs": [
    {
     "name": "stdout",
     "output_type": "stream",
     "text": [
      "0.6071428571428571\n"
     ]
    }
   ],
   "source": [
    "print(acc)"
   ]
  },
  {
   "cell_type": "code",
   "execution_count": 54,
   "metadata": {},
   "outputs": [],
   "source": [
    "def print_emoji(label):\n",
    "    \n",
    "    return emoji.emojize(emoji_dict[label], use_aliases=True)"
   ]
  },
  {
   "cell_type": "code",
   "execution_count": 55,
   "metadata": {},
   "outputs": [
    {
     "name": "stdout",
     "output_type": "stream",
     "text": [
      "['he', 'got', 'a', 'raise'] 😄 ❤\n",
      "['I', 'am', 'upset'] ❤ 😞\n",
      "['We', 'had', 'such', 'a', 'lovely', 'dinner', 'tonight'] ❤ 😄\n",
      "['This', 'girl', 'is', 'messing', 'with', 'me'] 😞 ❤\n",
      "['are', 'you', 'serious', 'ha', 'ha'] 😄 😞\n",
      "['work', 'is', 'horrible'] 😞 😄\n",
      "['Congratulation', 'for', 'having', 'a', 'baby'] 😄 ❤\n",
      "['stop', 'messing', 'around'] 😞 ⚾\n",
      "['you', 'brighten', 'my', 'day'] 😄 ❤\n",
      "['she', 'is', 'a', 'bully'] 😞 ❤\n",
      "['I', 'worked', 'during', 'my', 'birthday'] 😞 ❤\n",
      "['enjoy', 'your', 'break'] 😄 ⚾\n",
      "['valentine', 'day', 'is', 'near'] ❤ 😄\n",
      "['My', 'life', 'is', 'so', 'boring'] 😞 ❤\n",
      "['I', 'like', 'to', 'laugh'] 😄 ❤\n",
      "['I', 'will', 'go', 'dance'] 😄 ⚾\n",
      "['I', 'like', 'your', 'jacket'] 😄 ❤\n",
      "['Good', 'job'] 😄 ❤\n",
      "['I', 'want', 'to', 'joke'] 😄 ❤\n",
      "['go', 'away'] 😞 ⚾\n",
      "['yesterday', 'we', 'lost', 'again'] 😞 ⚾\n",
      "['I', 'did', 'not', 'have', 'breakfast'] 😞 ❤\n"
     ]
    }
   ],
   "source": [
    "for ix in range(embeddings_test.shape[0]):\n",
    "    \n",
    "    if pred[ix] != Y_test[ix]:\n",
    "        print (X_test[ix], print_emoji(Y_test[ix]), print_emoji(pred[ix]))"
   ]
  }
 ],
 "metadata": {
  "kernelspec": {
   "display_name": "Python 3",
   "language": "python",
   "name": "python3"
  },
  "language_info": {
   "codemirror_mode": {
    "name": "ipython",
    "version": 3
   },
   "file_extension": ".py",
   "mimetype": "text/x-python",
   "name": "python",
   "nbconvert_exporter": "python",
   "pygments_lexer": "ipython3",
   "version": "3.6.9"
  }
 },
 "nbformat": 4,
 "nbformat_minor": 2
}
