{
 "cells": [
  {
   "cell_type": "code",
   "execution_count": 32,
   "metadata": {},
   "outputs": [],
   "source": [
    "import emoji\n",
    "import pandas as pd\n",
    "import matplotlib.pyplot as plt"
   ]
  },
  {
   "cell_type": "code",
   "execution_count": 2,
   "metadata": {},
   "outputs": [
    {
     "name": "stdout",
     "output_type": "stream",
     "text": [
      "Python is 👍\n",
      "Python is ❤\n",
      "Python is 👧\n",
      "Python is 👪\n",
      "Python is 👦\n",
      "Python is 🧒\n"
     ]
    }
   ],
   "source": [
    "print(emoji.emojize('Python is :thumbs_up:'))\n",
    "print(emoji.emojize('Python is :red_heart:'))\n",
    "\n",
    "print(emoji.emojize('Python is :girl:'))\n",
    "print(emoji.emojize('Python is :family:'))\n",
    "print(emoji.emojize('Python is :boy:'))\n",
    "print(emoji.emojize('Python is :child:'))"
   ]
  },
  {
   "cell_type": "code",
   "execution_count": 33,
   "metadata": {},
   "outputs": [],
   "source": [
    "emoji_dict={\"0\":\":heart:\",\"1\":\":baseball:\",\"2\":\":smile:\",\"3\":\":disappointed:\",\"4\":\":fork_and_knife:\",\"5\":\":sunglasses:\"}"
   ]
  },
  {
   "cell_type": "code",
   "execution_count": 4,
   "metadata": {},
   "outputs": [],
   "source": []
  },
  {
   "cell_type": "code",
   "execution_count": 5,
   "metadata": {},
   "outputs": [
    {
     "name": "stdout",
     "output_type": "stream",
     "text": [
      "❤\n",
      "⚾\n",
      "😄\n",
      "😞\n",
      "🍴\n",
      "😎\n"
     ]
    }
   ],
   "source": [
    "for i in range(6):\n",
    "    print(print_emoji(i))"
   ]
  },
  {
   "cell_type": "code",
   "execution_count": 6,
   "metadata": {},
   "outputs": [
    {
     "name": "stderr",
     "output_type": "stream",
     "text": [
      "Using TensorFlow backend.\n",
      "/home/inderpreet/.local/lib/python3.6/site-packages/tensorflow/python/framework/dtypes.py:516: FutureWarning: Passing (type, 1) or '1type' as a synonym of type is deprecated; in a future version of numpy, it will be understood as (type, (1,)) / '(1,)type'.\n",
      "  _np_qint8 = np.dtype([(\"qint8\", np.int8, 1)])\n",
      "/home/inderpreet/.local/lib/python3.6/site-packages/tensorflow/python/framework/dtypes.py:517: FutureWarning: Passing (type, 1) or '1type' as a synonym of type is deprecated; in a future version of numpy, it will be understood as (type, (1,)) / '(1,)type'.\n",
      "  _np_quint8 = np.dtype([(\"quint8\", np.uint8, 1)])\n",
      "/home/inderpreet/.local/lib/python3.6/site-packages/tensorflow/python/framework/dtypes.py:518: FutureWarning: Passing (type, 1) or '1type' as a synonym of type is deprecated; in a future version of numpy, it will be understood as (type, (1,)) / '(1,)type'.\n",
      "  _np_qint16 = np.dtype([(\"qint16\", np.int16, 1)])\n",
      "/home/inderpreet/.local/lib/python3.6/site-packages/tensorflow/python/framework/dtypes.py:519: FutureWarning: Passing (type, 1) or '1type' as a synonym of type is deprecated; in a future version of numpy, it will be understood as (type, (1,)) / '(1,)type'.\n",
      "  _np_quint16 = np.dtype([(\"quint16\", np.uint16, 1)])\n",
      "/home/inderpreet/.local/lib/python3.6/site-packages/tensorflow/python/framework/dtypes.py:520: FutureWarning: Passing (type, 1) or '1type' as a synonym of type is deprecated; in a future version of numpy, it will be understood as (type, (1,)) / '(1,)type'.\n",
      "  _np_qint32 = np.dtype([(\"qint32\", np.int32, 1)])\n",
      "/home/inderpreet/.local/lib/python3.6/site-packages/tensorflow/python/framework/dtypes.py:525: FutureWarning: Passing (type, 1) or '1type' as a synonym of type is deprecated; in a future version of numpy, it will be understood as (type, (1,)) / '(1,)type'.\n",
      "  np_resource = np.dtype([(\"resource\", np.ubyte, 1)])\n",
      "/home/inderpreet/.local/lib/python3.6/site-packages/tensorboard/compat/tensorflow_stub/dtypes.py:541: FutureWarning: Passing (type, 1) or '1type' as a synonym of type is deprecated; in a future version of numpy, it will be understood as (type, (1,)) / '(1,)type'.\n",
      "  _np_qint8 = np.dtype([(\"qint8\", np.int8, 1)])\n",
      "/home/inderpreet/.local/lib/python3.6/site-packages/tensorboard/compat/tensorflow_stub/dtypes.py:542: FutureWarning: Passing (type, 1) or '1type' as a synonym of type is deprecated; in a future version of numpy, it will be understood as (type, (1,)) / '(1,)type'.\n",
      "  _np_quint8 = np.dtype([(\"quint8\", np.uint8, 1)])\n",
      "/home/inderpreet/.local/lib/python3.6/site-packages/tensorboard/compat/tensorflow_stub/dtypes.py:543: FutureWarning: Passing (type, 1) or '1type' as a synonym of type is deprecated; in a future version of numpy, it will be understood as (type, (1,)) / '(1,)type'.\n",
      "  _np_qint16 = np.dtype([(\"qint16\", np.int16, 1)])\n",
      "/home/inderpreet/.local/lib/python3.6/site-packages/tensorboard/compat/tensorflow_stub/dtypes.py:544: FutureWarning: Passing (type, 1) or '1type' as a synonym of type is deprecated; in a future version of numpy, it will be understood as (type, (1,)) / '(1,)type'.\n",
      "  _np_quint16 = np.dtype([(\"quint16\", np.uint16, 1)])\n",
      "/home/inderpreet/.local/lib/python3.6/site-packages/tensorboard/compat/tensorflow_stub/dtypes.py:545: FutureWarning: Passing (type, 1) or '1type' as a synonym of type is deprecated; in a future version of numpy, it will be understood as (type, (1,)) / '(1,)type'.\n",
      "  _np_qint32 = np.dtype([(\"qint32\", np.int32, 1)])\n",
      "/home/inderpreet/.local/lib/python3.6/site-packages/tensorboard/compat/tensorflow_stub/dtypes.py:550: FutureWarning: Passing (type, 1) or '1type' as a synonym of type is deprecated; in a future version of numpy, it will be understood as (type, (1,)) / '(1,)type'.\n",
      "  np_resource = np.dtype([(\"resource\", np.ubyte, 1)])\n"
     ]
    }
   ],
   "source": [
    "import numpy as np\n",
    "import pandas as pd\n",
    "import emoji\n",
    "from glove_vec import read_glove_vectors\n",
    "\n",
    "from keras.models import Sequential\n",
    "from keras.layers import Dense,Input,Dropout,SimpleRNN,LSTM,Activation\n",
    "from keras.utils import np_utils\n",
    "\n",
    "import matplotlib.pyplot as plt\n",
    "\n"
   ]
  },
  {
   "cell_type": "code",
   "execution_count": 7,
   "metadata": {},
   "outputs": [],
   "source": [
    "train=pd.read_csv(\"train_emoji.csv\",header=None)\n",
    "test=pd.read_csv(\"test_emoji.csv\",header=None)"
   ]
  },
  {
   "cell_type": "code",
   "execution_count": 8,
   "metadata": {},
   "outputs": [
    {
     "data": {
      "text/html": [
       "<div>\n",
       "<style scoped>\n",
       "    .dataframe tbody tr th:only-of-type {\n",
       "        vertical-align: middle;\n",
       "    }\n",
       "\n",
       "    .dataframe tbody tr th {\n",
       "        vertical-align: top;\n",
       "    }\n",
       "\n",
       "    .dataframe thead th {\n",
       "        text-align: right;\n",
       "    }\n",
       "</style>\n",
       "<table border=\"1\" class=\"dataframe\">\n",
       "  <thead>\n",
       "    <tr style=\"text-align: right;\">\n",
       "      <th></th>\n",
       "      <th>0</th>\n",
       "      <th>1</th>\n",
       "      <th>2</th>\n",
       "      <th>3</th>\n",
       "    </tr>\n",
       "  </thead>\n",
       "  <tbody>\n",
       "    <tr>\n",
       "      <th>0</th>\n",
       "      <td>never talk to me again</td>\n",
       "      <td>3</td>\n",
       "      <td>NaN</td>\n",
       "      <td>NaN</td>\n",
       "    </tr>\n",
       "    <tr>\n",
       "      <th>1</th>\n",
       "      <td>I am proud of your achievements</td>\n",
       "      <td>2</td>\n",
       "      <td>NaN</td>\n",
       "      <td>NaN</td>\n",
       "    </tr>\n",
       "    <tr>\n",
       "      <th>2</th>\n",
       "      <td>It is the worst day in my life</td>\n",
       "      <td>3</td>\n",
       "      <td>NaN</td>\n",
       "      <td>NaN</td>\n",
       "    </tr>\n",
       "    <tr>\n",
       "      <th>3</th>\n",
       "      <td>Miss you so much</td>\n",
       "      <td>0</td>\n",
       "      <td>NaN</td>\n",
       "      <td>[0]</td>\n",
       "    </tr>\n",
       "    <tr>\n",
       "      <th>4</th>\n",
       "      <td>food is life</td>\n",
       "      <td>4</td>\n",
       "      <td>NaN</td>\n",
       "      <td>NaN</td>\n",
       "    </tr>\n",
       "  </tbody>\n",
       "</table>\n",
       "</div>"
      ],
      "text/plain": [
       "                                 0  1   2     3\n",
       "0           never talk to me again  3 NaN   NaN\n",
       "1  I am proud of your achievements  2 NaN   NaN\n",
       "2   It is the worst day in my life  3 NaN   NaN\n",
       "3                 Miss you so much  0 NaN   [0]\n",
       "4                     food is life  4 NaN   NaN"
      ]
     },
     "execution_count": 8,
     "metadata": {},
     "output_type": "execute_result"
    }
   ],
   "source": [
    "train.head()"
   ]
  },
  {
   "cell_type": "code",
   "execution_count": 9,
   "metadata": {},
   "outputs": [
    {
     "data": {
      "text/html": [
       "<div>\n",
       "<style scoped>\n",
       "    .dataframe tbody tr th:only-of-type {\n",
       "        vertical-align: middle;\n",
       "    }\n",
       "\n",
       "    .dataframe tbody tr th {\n",
       "        vertical-align: top;\n",
       "    }\n",
       "\n",
       "    .dataframe thead th {\n",
       "        text-align: right;\n",
       "    }\n",
       "</style>\n",
       "<table border=\"1\" class=\"dataframe\">\n",
       "  <thead>\n",
       "    <tr style=\"text-align: right;\">\n",
       "      <th></th>\n",
       "      <th>0</th>\n",
       "      <th>1</th>\n",
       "    </tr>\n",
       "  </thead>\n",
       "  <tbody>\n",
       "    <tr>\n",
       "      <th>0</th>\n",
       "      <td>I want to eat\\t</td>\n",
       "      <td>4</td>\n",
       "    </tr>\n",
       "    <tr>\n",
       "      <th>1</th>\n",
       "      <td>he did not answer\\t</td>\n",
       "      <td>3</td>\n",
       "    </tr>\n",
       "    <tr>\n",
       "      <th>2</th>\n",
       "      <td>he got a raise\\t</td>\n",
       "      <td>2</td>\n",
       "    </tr>\n",
       "    <tr>\n",
       "      <th>3</th>\n",
       "      <td>she got me a present\\t</td>\n",
       "      <td>0</td>\n",
       "    </tr>\n",
       "    <tr>\n",
       "      <th>4</th>\n",
       "      <td>ha ha ha it was so funny\\t</td>\n",
       "      <td>2</td>\n",
       "    </tr>\n",
       "  </tbody>\n",
       "</table>\n",
       "</div>"
      ],
      "text/plain": [
       "                            0  1\n",
       "0             I want to eat\\t  4\n",
       "1         he did not answer\\t  3\n",
       "2            he got a raise\\t  2\n",
       "3      she got me a present\\t  0\n",
       "4  ha ha ha it was so funny\\t  2"
      ]
     },
     "execution_count": 9,
     "metadata": {},
     "output_type": "execute_result"
    }
   ],
   "source": [
    "test.head()"
   ]
  },
  {
   "cell_type": "code",
   "execution_count": 39,
   "metadata": {},
   "outputs": [
    {
     "name": "stdout",
     "output_type": "stream",
     "text": [
      "0 ❤\n",
      "1 ⚾\n",
      "2 😄\n",
      "3 😞\n",
      "4 🍴\n",
      "5 😎\n"
     ]
    }
   ],
   "source": [
    "for ix in emoji_dict.keys():\n",
    "    print (ix, emoji.emojize(emoji_dict[ix],use_aliases=True))"
   ]
  },
  {
   "cell_type": "code",
   "execution_count": 10,
   "metadata": {},
   "outputs": [
    {
     "name": "stdout",
     "output_type": "stream",
     "text": [
      "(132,) (132,)\n"
     ]
    }
   ],
   "source": [
    "X_train=train[0]\n",
    "Y_train=train[1]\n",
    "\n",
    "X_test=test[0]\n",
    "Y_test=test[1]\n",
    "print(X_train.shape,Y_train.shape)\n",
    "\n",
    "\n",
    "\n"
   ]
  },
  {
   "cell_type": "code",
   "execution_count": 11,
   "metadata": {},
   "outputs": [
    {
     "name": "stdout",
     "output_type": "stream",
     "text": [
      "never talk to me again 3\n"
     ]
    }
   ],
   "source": [
    "print(X_train[0],Y_train[0])"
   ]
  },
  {
   "cell_type": "code",
   "execution_count": 12,
   "metadata": {},
   "outputs": [
    {
     "name": "stderr",
     "output_type": "stream",
     "text": [
      "/usr/local/lib/python3.6/dist-packages/ipykernel_launcher.py:2: SettingWithCopyWarning: \n",
      "A value is trying to be set on a copy of a slice from a DataFrame\n",
      "\n",
      "See the caveats in the documentation: http://pandas.pydata.org/pandas-docs/stable/indexing.html#indexing-view-versus-copy\n",
      "  \n",
      "/usr/local/lib/python3.6/dist-packages/ipykernel_launcher.py:5: SettingWithCopyWarning: \n",
      "A value is trying to be set on a copy of a slice from a DataFrame\n",
      "\n",
      "See the caveats in the documentation: http://pandas.pydata.org/pandas-docs/stable/indexing.html#indexing-view-versus-copy\n",
      "  \"\"\"\n"
     ]
    }
   ],
   "source": [
    "for ix in range(X_train.shape[0]):\n",
    "    X_train[ix]=X_train[ix].split()\n",
    "    \n",
    "for ix in range(X_test.shape[0]):\n",
    "    X_test[ix]=X_test[ix].split()\n",
    "    \n",
    "Y_train=np_utils.to_categorical(Y_train)"
   ]
  },
  {
   "cell_type": "code",
   "execution_count": 13,
   "metadata": {},
   "outputs": [
    {
     "name": "stdout",
     "output_type": "stream",
     "text": [
      "['never', 'talk', 'to', 'me', 'again'] [0. 0. 0. 1. 0.]\n"
     ]
    }
   ],
   "source": [
    "print(X_train[0],Y_train[0])"
   ]
  },
  {
   "cell_type": "code",
   "execution_count": 14,
   "metadata": {},
   "outputs": [
    {
     "data": {
      "text/plain": [
       "(array([ 1,  2,  3,  4,  5,  6,  7,  8,  9, 10]),\n",
       " array([ 4,  5, 26, 35, 20, 21, 11,  5,  1,  4]))"
      ]
     },
     "execution_count": 14,
     "metadata": {},
     "output_type": "execute_result"
    }
   ],
   "source": [
    "np.unique(np.array([len(ix) for ix in X_train]),return_counts=True)"
   ]
  },
  {
   "cell_type": "code",
   "execution_count": 15,
   "metadata": {},
   "outputs": [
    {
     "data": {
      "text/plain": [
       "(array([2, 3, 4, 5, 6, 7, 8]), array([ 3, 12, 16, 17,  3,  4,  1]))"
      ]
     },
     "execution_count": 15,
     "metadata": {},
     "output_type": "execute_result"
    }
   ],
   "source": [
    "np.unique(np.array([len(ix) for ix in X_test]),return_counts=True)"
   ]
  },
  {
   "cell_type": "code",
   "execution_count": 17,
   "metadata": {},
   "outputs": [],
   "source": [
    "emb_matrix=read_glove_vectors(\"glove.6B.50d.txt\")"
   ]
  },
  {
   "cell_type": "code",
   "execution_count": 18,
   "metadata": {},
   "outputs": [
    {
     "name": "stdout",
     "output_type": "stream",
     "text": [
      "[ 1.1891e-01  1.5255e-01 -8.2073e-02 -7.4144e-01  7.5917e-01 -4.8328e-01\n",
      " -3.1009e-01  5.1476e-01 -9.8708e-01  6.1757e-04 -1.5043e-01  8.3770e-01\n",
      " -1.0797e+00 -5.1460e-01  1.3188e+00  6.2007e-01  1.3779e-01  4.7108e-01\n",
      " -7.2874e-02 -7.2675e-01 -7.4116e-01  7.5263e-01  8.8180e-01  2.9561e-01\n",
      "  1.3548e+00 -2.5701e+00 -1.3523e+00  4.5880e-01  1.0068e+00 -1.1856e+00\n",
      "  3.4737e+00  7.7898e-01 -7.2929e-01  2.5102e-01 -2.6156e-01 -3.4684e-01\n",
      "  5.5841e-01  7.5098e-01  4.9830e-01 -2.6823e-01 -2.7443e-03 -1.8298e-02\n",
      " -2.8096e-01  5.5318e-01  3.7706e-02  1.8555e-01 -1.5025e-01 -5.7512e-01\n",
      " -2.6671e-01  9.2121e-01] (50,)\n"
     ]
    }
   ],
   "source": [
    "print(emb_matrix[\"i\"],emb_matrix[\"i\"].shape)"
   ]
  },
  {
   "cell_type": "code",
   "execution_count": 20,
   "metadata": {},
   "outputs": [],
   "source": [
    "embedding_train=np.zeros((X_train.shape[0],10,50))\n",
    "embedding_test=np.zeros((X_test.shape[0],10,50))\n",
    "\n",
    "for ix in range(X_train.shape[0]):\n",
    "    for ij in range(len(X_train[ix])):\n",
    "        embedding_train[ix][ij]=emb_matrix[X_train[ix][ij].lower()]\n",
    "        \n",
    "for ix in range(X_test.shape[0]):\n",
    "    for ij in range(len(X_test[ix])):\n",
    "        embedding_test[ix][ij]=emb_matrix[X_test[ix][ij].lower()]"
   ]
  },
  {
   "cell_type": "code",
   "execution_count": 21,
   "metadata": {},
   "outputs": [
    {
     "name": "stdout",
     "output_type": "stream",
     "text": [
      "(132, 10, 50) (56, 10, 50)\n"
     ]
    }
   ],
   "source": [
    "print(embedding_train.shape,embedding_test.shape\n",
    "     )"
   ]
  },
  {
   "cell_type": "code",
   "execution_count": 22,
   "metadata": {},
   "outputs": [
    {
     "name": "stderr",
     "output_type": "stream",
     "text": [
      "WARNING: Logging before flag parsing goes to stderr.\n",
      "W0808 01:29:15.086986 139785686017856 deprecation_wrapper.py:119] From /home/inderpreet/.local/lib/python3.6/site-packages/keras/backend/tensorflow_backend.py:74: The name tf.get_default_graph is deprecated. Please use tf.compat.v1.get_default_graph instead.\n",
      "\n",
      "W0808 01:29:15.522712 139785686017856 deprecation_wrapper.py:119] From /home/inderpreet/.local/lib/python3.6/site-packages/keras/backend/tensorflow_backend.py:517: The name tf.placeholder is deprecated. Please use tf.compat.v1.placeholder instead.\n",
      "\n",
      "W0808 01:29:15.572693 139785686017856 deprecation_wrapper.py:119] From /home/inderpreet/.local/lib/python3.6/site-packages/keras/backend/tensorflow_backend.py:4138: The name tf.random_uniform is deprecated. Please use tf.random.uniform instead.\n",
      "\n",
      "W0808 01:29:16.072882 139785686017856 deprecation_wrapper.py:119] From /home/inderpreet/.local/lib/python3.6/site-packages/keras/backend/tensorflow_backend.py:133: The name tf.placeholder_with_default is deprecated. Please use tf.compat.v1.placeholder_with_default instead.\n",
      "\n",
      "W0808 01:29:16.105462 139785686017856 deprecation.py:506] From /home/inderpreet/.local/lib/python3.6/site-packages/keras/backend/tensorflow_backend.py:3445: calling dropout (from tensorflow.python.ops.nn_ops) with keep_prob is deprecated and will be removed in a future version.\n",
      "Instructions for updating:\n",
      "Please use `rate` instead of `keep_prob`. Rate should be set to `rate = 1 - keep_prob`.\n"
     ]
    },
    {
     "name": "stdout",
     "output_type": "stream",
     "text": [
      "_________________________________________________________________\n",
      "Layer (type)                 Output Shape              Param #   \n",
      "=================================================================\n",
      "lstm_1 (LSTM)                (None, 10, 32)            10624     \n",
      "_________________________________________________________________\n",
      "dropout_1 (Dropout)          (None, 10, 32)            0         \n",
      "_________________________________________________________________\n",
      "lstm_2 (LSTM)                (None, 32)                8320      \n",
      "_________________________________________________________________\n",
      "dropout_2 (Dropout)          (None, 32)                0         \n",
      "_________________________________________________________________\n",
      "dense_1 (Dense)              (None, 5)                 165       \n",
      "=================================================================\n",
      "Total params: 19,109\n",
      "Trainable params: 19,109\n",
      "Non-trainable params: 0\n",
      "_________________________________________________________________\n"
     ]
    }
   ],
   "source": [
    "model=Sequential()\n",
    "model.add(LSTM(32,input_shape=(10,50),return_sequences=True))\n",
    "model.add(Dropout(0.5))\n",
    "model.add(LSTM(32,return_sequences=False))\n",
    "model.add(Dropout(0.5))\n",
    "model.add(Dense(5,activation='softmax'))\n",
    "\n",
    "model.summary()"
   ]
  },
  {
   "cell_type": "code",
   "execution_count": 40,
   "metadata": {},
   "outputs": [],
   "source": [
    "model.compile(loss='categorical_crossentropy',optimizer=\"RMSprop\",metrics=['accuracy'])\n"
   ]
  },
  {
   "cell_type": "code",
   "execution_count": 24,
   "metadata": {},
   "outputs": [
    {
     "name": "stderr",
     "output_type": "stream",
     "text": [
      "W0808 01:35:35.568055 139785686017856 deprecation.py:323] From /home/inderpreet/.local/lib/python3.6/site-packages/tensorflow/python/ops/math_grad.py:1250: add_dispatch_support.<locals>.wrapper (from tensorflow.python.ops.array_ops) is deprecated and will be removed in a future version.\n",
      "Instructions for updating:\n",
      "Use tf.where in 2.0, which has the same broadcast rule as np.where\n"
     ]
    },
    {
     "name": "stdout",
     "output_type": "stream",
     "text": [
      "Train on 105 samples, validate on 27 samples\n",
      "Epoch 1/50\n",
      "105/105 [==============================] - 27s 254ms/step - loss: 1.5685 - acc: 0.2476 - val_loss: 1.6326 - val_acc: 0.1111\n",
      "Epoch 2/50\n",
      "105/105 [==============================] - 0s 3ms/step - loss: 1.5099 - acc: 0.4095 - val_loss: 1.6236 - val_acc: 0.2222\n",
      "Epoch 3/50\n",
      "105/105 [==============================] - 0s 4ms/step - loss: 1.4779 - acc: 0.3143 - val_loss: 1.6262 - val_acc: 0.1852\n",
      "Epoch 4/50\n",
      "105/105 [==============================] - 0s 4ms/step - loss: 1.4494 - acc: 0.3238 - val_loss: 1.5878 - val_acc: 0.2222\n",
      "Epoch 5/50\n",
      "105/105 [==============================] - 0s 3ms/step - loss: 1.3942 - acc: 0.4381 - val_loss: 1.5906 - val_acc: 0.1852\n",
      "Epoch 6/50\n",
      "105/105 [==============================] - 0s 4ms/step - loss: 1.3390 - acc: 0.4571 - val_loss: 1.4964 - val_acc: 0.3333\n",
      "Epoch 7/50\n",
      "105/105 [==============================] - 0s 4ms/step - loss: 1.2656 - acc: 0.5333 - val_loss: 1.4796 - val_acc: 0.3333\n",
      "Epoch 8/50\n",
      "105/105 [==============================] - 0s 4ms/step - loss: 1.2169 - acc: 0.5619 - val_loss: 1.4036 - val_acc: 0.3704\n",
      "Epoch 9/50\n",
      "105/105 [==============================] - 0s 4ms/step - loss: 1.1226 - acc: 0.6476 - val_loss: 1.4487 - val_acc: 0.4444\n",
      "Epoch 10/50\n",
      "105/105 [==============================] - 0s 4ms/step - loss: 1.0450 - acc: 0.6857 - val_loss: 1.4082 - val_acc: 0.4444\n",
      "Epoch 11/50\n",
      "105/105 [==============================] - 0s 4ms/step - loss: 0.9703 - acc: 0.7143 - val_loss: 1.3555 - val_acc: 0.4444\n",
      "Epoch 12/50\n",
      "105/105 [==============================] - 0s 4ms/step - loss: 0.9303 - acc: 0.7333 - val_loss: 1.5247 - val_acc: 0.4444\n",
      "Epoch 13/50\n",
      "105/105 [==============================] - 0s 4ms/step - loss: 0.7995 - acc: 0.7619 - val_loss: 1.4375 - val_acc: 0.3704\n",
      "Epoch 14/50\n",
      "105/105 [==============================] - 0s 4ms/step - loss: 0.7948 - acc: 0.7333 - val_loss: 1.2416 - val_acc: 0.5185\n",
      "Epoch 15/50\n",
      "105/105 [==============================] - 0s 4ms/step - loss: 0.7785 - acc: 0.7238 - val_loss: 1.2618 - val_acc: 0.4815\n",
      "Epoch 16/50\n",
      "105/105 [==============================] - 0s 4ms/step - loss: 0.7251 - acc: 0.7905 - val_loss: 1.3031 - val_acc: 0.5185\n",
      "Epoch 17/50\n",
      "105/105 [==============================] - 0s 5ms/step - loss: 0.7542 - acc: 0.7429 - val_loss: 1.2937 - val_acc: 0.5185\n",
      "Epoch 18/50\n",
      "105/105 [==============================] - 0s 4ms/step - loss: 0.6502 - acc: 0.8095 - val_loss: 1.1557 - val_acc: 0.5556\n",
      "Epoch 19/50\n",
      "105/105 [==============================] - 0s 4ms/step - loss: 0.5863 - acc: 0.8190 - val_loss: 1.1248 - val_acc: 0.5556\n",
      "Epoch 20/50\n",
      "105/105 [==============================] - 0s 4ms/step - loss: 0.5597 - acc: 0.8190 - val_loss: 0.9786 - val_acc: 0.6296\n",
      "Epoch 21/50\n",
      "105/105 [==============================] - 0s 4ms/step - loss: 0.5394 - acc: 0.8095 - val_loss: 1.1017 - val_acc: 0.5926\n",
      "Epoch 22/50\n",
      "105/105 [==============================] - 0s 4ms/step - loss: 0.5011 - acc: 0.8476 - val_loss: 1.0272 - val_acc: 0.6296\n",
      "Epoch 23/50\n",
      "105/105 [==============================] - 0s 4ms/step - loss: 0.4946 - acc: 0.8381 - val_loss: 1.3705 - val_acc: 0.5556\n",
      "Epoch 24/50\n",
      "105/105 [==============================] - 0s 4ms/step - loss: 0.4947 - acc: 0.8667 - val_loss: 1.0878 - val_acc: 0.5556\n",
      "Epoch 25/50\n",
      "105/105 [==============================] - 0s 4ms/step - loss: 0.5007 - acc: 0.8381 - val_loss: 1.1774 - val_acc: 0.6296\n",
      "Epoch 26/50\n",
      "105/105 [==============================] - 0s 4ms/step - loss: 0.3710 - acc: 0.8952 - val_loss: 0.9429 - val_acc: 0.7037\n",
      "Epoch 27/50\n",
      "105/105 [==============================] - 0s 4ms/step - loss: 0.3733 - acc: 0.8857 - val_loss: 0.9391 - val_acc: 0.6667\n",
      "Epoch 28/50\n",
      "105/105 [==============================] - 0s 4ms/step - loss: 0.4454 - acc: 0.8571 - val_loss: 1.0472 - val_acc: 0.5926\n",
      "Epoch 29/50\n",
      "105/105 [==============================] - 0s 4ms/step - loss: 0.3275 - acc: 0.9048 - val_loss: 1.1651 - val_acc: 0.6667\n",
      "Epoch 30/50\n",
      "105/105 [==============================] - 0s 4ms/step - loss: 0.3997 - acc: 0.9048 - val_loss: 1.1785 - val_acc: 0.6296\n",
      "Epoch 31/50\n",
      "105/105 [==============================] - 0s 4ms/step - loss: 0.3882 - acc: 0.8952 - val_loss: 1.1308 - val_acc: 0.6296\n",
      "Epoch 32/50\n",
      "105/105 [==============================] - 0s 4ms/step - loss: 0.3222 - acc: 0.8952 - val_loss: 1.1671 - val_acc: 0.6296\n",
      "Epoch 33/50\n",
      "105/105 [==============================] - 0s 4ms/step - loss: 0.3087 - acc: 0.9333 - val_loss: 1.2274 - val_acc: 0.5185\n",
      "Epoch 34/50\n",
      "105/105 [==============================] - 0s 4ms/step - loss: 0.2890 - acc: 0.9238 - val_loss: 1.2302 - val_acc: 0.6296\n",
      "Epoch 35/50\n",
      "105/105 [==============================] - 0s 4ms/step - loss: 0.2331 - acc: 0.9333 - val_loss: 1.0054 - val_acc: 0.7037\n",
      "Epoch 36/50\n",
      "105/105 [==============================] - 0s 4ms/step - loss: 0.2866 - acc: 0.9238 - val_loss: 1.0899 - val_acc: 0.6296\n",
      "Epoch 37/50\n",
      "105/105 [==============================] - 0s 4ms/step - loss: 0.2803 - acc: 0.9143 - val_loss: 1.1989 - val_acc: 0.6296\n",
      "Epoch 38/50\n",
      "105/105 [==============================] - 0s 4ms/step - loss: 0.2906 - acc: 0.8952 - val_loss: 1.0627 - val_acc: 0.7037\n",
      "Epoch 39/50\n",
      "105/105 [==============================] - 0s 4ms/step - loss: 0.2160 - acc: 0.9143 - val_loss: 0.9734 - val_acc: 0.7037\n",
      "Epoch 40/50\n",
      "105/105 [==============================] - 0s 5ms/step - loss: 0.1502 - acc: 0.9524 - val_loss: 0.9325 - val_acc: 0.6667\n",
      "Epoch 41/50\n",
      "105/105 [==============================] - 0s 5ms/step - loss: 0.1708 - acc: 0.9429 - val_loss: 1.1252 - val_acc: 0.6296\n",
      "Epoch 42/50\n",
      "105/105 [==============================] - 0s 5ms/step - loss: 0.1566 - acc: 0.9714 - val_loss: 1.0647 - val_acc: 0.6667\n",
      "Epoch 43/50\n",
      "105/105 [==============================] - 0s 4ms/step - loss: 0.1945 - acc: 0.9429 - val_loss: 1.1026 - val_acc: 0.6296\n",
      "Epoch 44/50\n",
      "105/105 [==============================] - 0s 4ms/step - loss: 0.2294 - acc: 0.9333 - val_loss: 1.1672 - val_acc: 0.7037\n",
      "Epoch 45/50\n",
      "105/105 [==============================] - 0s 4ms/step - loss: 0.1912 - acc: 0.9619 - val_loss: 1.1013 - val_acc: 0.7037\n",
      "Epoch 46/50\n",
      "105/105 [==============================] - 0s 4ms/step - loss: 0.0952 - acc: 0.9810 - val_loss: 1.2305 - val_acc: 0.6667\n",
      "Epoch 47/50\n",
      "105/105 [==============================] - 0s 4ms/step - loss: 0.1807 - acc: 0.9619 - val_loss: 1.0770 - val_acc: 0.7407\n",
      "Epoch 48/50\n",
      "105/105 [==============================] - 0s 4ms/step - loss: 0.2239 - acc: 0.9143 - val_loss: 1.0660 - val_acc: 0.7778\n",
      "Epoch 49/50\n",
      "105/105 [==============================] - 0s 4ms/step - loss: 0.1692 - acc: 0.9429 - val_loss: 1.0250 - val_acc: 0.6667\n",
      "Epoch 50/50\n",
      "105/105 [==============================] - 0s 4ms/step - loss: 0.1766 - acc: 0.9429 - val_loss: 1.0507 - val_acc: 0.6667\n"
     ]
    }
   ],
   "source": [
    "hist=model.fit(embedding_train,Y_train,epochs=50,batch_size=12,shuffle=True,validation_split=0.20)"
   ]
  },
  {
   "cell_type": "code",
   "execution_count": 25,
   "metadata": {},
   "outputs": [],
   "source": [
    "pred=model.predict_classes(embedding_test)"
   ]
  },
  {
   "cell_type": "code",
   "execution_count": 26,
   "metadata": {},
   "outputs": [],
   "source": [
    "acc=float(sum(pred==Y_test))/embedding_test.shape[0]"
   ]
  },
  {
   "cell_type": "code",
   "execution_count": 27,
   "metadata": {},
   "outputs": [
    {
     "name": "stdout",
     "output_type": "stream",
     "text": [
      "0.5535714285714286\n"
     ]
    }
   ],
   "source": [
    "print(acc)"
   ]
  },
  {
   "cell_type": "code",
   "execution_count": 45,
   "metadata": {},
   "outputs": [],
   "source": [
    "def print_emoji(label):\n",
    "    \n",
    "    return emoji.emojize(emoji_dict[label], use_aliases=True)"
   ]
  },
  {
   "cell_type": "code",
   "execution_count": 48,
   "metadata": {},
   "outputs": [
    {
     "ename": "KeyError",
     "evalue": "2",
     "output_type": "error",
     "traceback": [
      "\u001b[0;31m---------------------------------------------------------------------------\u001b[0m",
      "\u001b[0;31mKeyError\u001b[0m                                  Traceback (most recent call last)",
      "\u001b[0;32m<ipython-input-48-5b6b61f05314>\u001b[0m in \u001b[0;36m<module>\u001b[0;34m\u001b[0m\n\u001b[1;32m      2\u001b[0m \u001b[0;34m\u001b[0m\u001b[0m\n\u001b[1;32m      3\u001b[0m     \u001b[0;32mif\u001b[0m \u001b[0mpred\u001b[0m\u001b[0;34m[\u001b[0m\u001b[0mix\u001b[0m\u001b[0;34m]\u001b[0m \u001b[0;34m!=\u001b[0m \u001b[0mY_test\u001b[0m\u001b[0;34m[\u001b[0m\u001b[0mix\u001b[0m\u001b[0;34m]\u001b[0m\u001b[0;34m:\u001b[0m\u001b[0;34m\u001b[0m\u001b[0;34m\u001b[0m\u001b[0m\n\u001b[0;32m----> 4\u001b[0;31m         \u001b[0mprint\u001b[0m \u001b[0;34m(\u001b[0m\u001b[0mX_test\u001b[0m\u001b[0;34m[\u001b[0m\u001b[0mix\u001b[0m\u001b[0;34m]\u001b[0m\u001b[0;34m,\u001b[0m \u001b[0mprint_emoji\u001b[0m\u001b[0;34m(\u001b[0m\u001b[0mY_test\u001b[0m\u001b[0;34m[\u001b[0m\u001b[0mix\u001b[0m\u001b[0;34m]\u001b[0m\u001b[0;34m)\u001b[0m\u001b[0;34m,\u001b[0m \u001b[0mprint_emoji\u001b[0m\u001b[0;34m(\u001b[0m\u001b[0mpred\u001b[0m\u001b[0;34m[\u001b[0m\u001b[0mix\u001b[0m\u001b[0;34m]\u001b[0m\u001b[0;34m)\u001b[0m\u001b[0;34m)\u001b[0m\u001b[0;34m\u001b[0m\u001b[0;34m\u001b[0m\u001b[0m\n\u001b[0m",
      "\u001b[0;32m<ipython-input-45-00e0b6bb79da>\u001b[0m in \u001b[0;36mprint_emoji\u001b[0;34m(label)\u001b[0m\n\u001b[1;32m      1\u001b[0m \u001b[0;32mdef\u001b[0m \u001b[0mprint_emoji\u001b[0m\u001b[0;34m(\u001b[0m\u001b[0mlabel\u001b[0m\u001b[0;34m)\u001b[0m\u001b[0;34m:\u001b[0m\u001b[0;34m\u001b[0m\u001b[0;34m\u001b[0m\u001b[0m\n\u001b[1;32m      2\u001b[0m \u001b[0;34m\u001b[0m\u001b[0m\n\u001b[0;32m----> 3\u001b[0;31m     \u001b[0;32mreturn\u001b[0m \u001b[0memoji\u001b[0m\u001b[0;34m.\u001b[0m\u001b[0memojize\u001b[0m\u001b[0;34m(\u001b[0m\u001b[0memoji_dict\u001b[0m\u001b[0;34m[\u001b[0m\u001b[0mlabel\u001b[0m\u001b[0;34m]\u001b[0m\u001b[0;34m,\u001b[0m \u001b[0muse_aliases\u001b[0m\u001b[0;34m=\u001b[0m\u001b[0;32mTrue\u001b[0m\u001b[0;34m)\u001b[0m\u001b[0;34m\u001b[0m\u001b[0;34m\u001b[0m\u001b[0m\n\u001b[0m",
      "\u001b[0;31mKeyError\u001b[0m: 2"
     ]
    }
   ],
   "source": [
    "for ix in range(embedding_test.shape[0]):\n",
    "    \n",
    "    if pred[ix] != Y_test[ix]:\n",
    "        print (X_test[ix], print_emoji(Y_test[ix]), print_emoji(pred[ix]))"
   ]
  },
  {
   "cell_type": "code",
   "execution_count": null,
   "metadata": {},
   "outputs": [],
   "source": []
  }
 ],
 "metadata": {
  "kernelspec": {
   "display_name": "Python 3",
   "language": "python",
   "name": "python3"
  },
  "language_info": {
   "codemirror_mode": {
    "name": "ipython",
    "version": 3
   },
   "file_extension": ".py",
   "mimetype": "text/x-python",
   "name": "python",
   "nbconvert_exporter": "python",
   "pygments_lexer": "ipython3",
   "version": "3.6.9"
  }
 },
 "nbformat": 4,
 "nbformat_minor": 2
}
